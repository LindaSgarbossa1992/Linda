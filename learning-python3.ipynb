{
  "nbformat": 4,
  "nbformat_minor": 0,
  "metadata": {
    "kernelspec": {
      "display_name": "Python 3",
      "language": "python",
      "name": "python3"
    },
    "language_info": {
      "codemirror_mode": {
        "name": "ipython",
        "version": 3
      },
      "file_extension": ".py",
      "mimetype": "text/x-python",
      "name": "python",
      "nbconvert_exporter": "python",
      "pygments_lexer": "ipython3",
      "version": "3.7.3"
    },
    "colab": {
      "name": "learning-python3.ipynb",
      "provenance": []
    }
  },
  "cells": [
    {
      "cell_type": "markdown",
      "metadata": {
        "id": "zqY7_bx-flla",
        "colab_type": "text"
      },
      "source": [
        "[learning-python3.ipynb]: https://gist.githubusercontent.com/kenjyco/69eeb503125035f21a9d/raw/learning-python3.ipynb\n",
        "\n",
        "Right-click -> \"save link as\" [https://gist.githubusercontent.com/kenjyco/69eeb503125035f21a9d/raw/learning-python3.ipynb][learning-python3.ipynb] to get most up-to-date version of this notebook file.\n",
        "\n",
        "## Quick note about Jupyter cells\n",
        "\n",
        "When you are editing a cell in Jupyter notebook, you need to re-run the cell by pressing **`<Shift> + <Enter>`**. This will allow changes you made to be available to other cells.\n",
        "\n",
        "Use **`<Enter>`** to make new lines inside a cell you are editing.\n",
        "\n",
        "#### Code cells\n",
        "\n",
        "Re-running will execute any statements you have written. To edit an existing code cell, click on it.\n",
        "\n",
        "#### Markdown cells\n",
        "\n",
        "Re-running will render the markdown text. To edit an existing markdown cell, double-click on it.\n",
        "\n",
        "<hr>"
      ]
    },
    {
      "cell_type": "markdown",
      "metadata": {
        "id": "P14agzB7fllf",
        "colab_type": "text"
      },
      "source": [
        "## Common Jupyter operations\n",
        "\n",
        "Near the top of the https://try.jupyter.org page, Jupyter provides a row of menu options (`File`, `Edit`, `View`, `Insert`, ...) and a row of tool bar icons (disk, plus sign, scissors, 2 files, clipboard and file, up arrow, ...).\n",
        "\n",
        "#### Inserting and removing cells\n",
        "\n",
        "- Use the \"plus sign\" icon to insert a cell below the currently selected cell\n",
        "- Use \"Insert\" -> \"Insert Cell Above\" from the menu to insert above\n",
        "\n",
        "#### Clear the output of all cells\n",
        "\n",
        "- Use \"Kernel\" -> \"Restart\" from the menu to restart the kernel\n",
        "    - click on \"clear all outputs & restart\" to have all the output cleared\n",
        "\n",
        "#### Save your notebook file locally\n",
        "\n",
        "- Clear the output of all cells\n",
        "- Use \"File\" -> \"Download as\" -> \"IPython Notebook (.ipynb)\" to download a notebook file representing your https://try.jupyter.org session\n",
        "\n",
        "#### Load your notebook file in try.jupyter.org\n",
        "\n",
        "1. Visit https://try.jupyter.org\n",
        "2. Click the \"Upload\" button near the upper right corner\n",
        "3. Navigate your filesystem to find your `*.ipynb` file and click \"open\"\n",
        "4. Click the new \"upload\" button that appears next to your file name\n",
        "5. Click on your uploaded notebook file\n",
        "\n",
        "<hr>"
      ]
    },
    {
      "cell_type": "markdown",
      "metadata": {
        "id": "OEP-Lb0efllg",
        "colab_type": "text"
      },
      "source": [
        "## References\n",
        "\n",
        "- https://try.jupyter.org\n",
        "- https://docs.python.org/3/tutorial/index.html\n",
        "- https://docs.python.org/3/tutorial/introduction.html\n",
        "- https://daringfireball.net/projects/markdown/syntax\n",
        "\n",
        "<hr>"
      ]
    },
    {
      "cell_type": "markdown",
      "metadata": {
        "id": "Ssblf-Qdfllq",
        "colab_type": "text"
      },
      "source": [
        "## Python objects, basic types, and variables\n",
        "\n",
        "Everything in Python is an **object** and every object in Python has a **type**. Some of the basic types include:\n",
        "\n",
        "- **`int`** (integer; a whole number with no decimal place)\n",
        "  - `10`\n",
        "  - `-3`\n",
        "- **`float`** (float; a number that has a decimal place)\n",
        "  - `7.41`\n",
        "  - `-0.006`\n",
        "- **`str`** (string; a sequence of characters enclosed in single quotes, double quotes, or triple quotes)\n",
        "  - `'this is a string using single quotes'`\n",
        "  - `\"this is a string using double quotes\"`\n",
        "  - `'''this is a triple quoted string using single quotes'''`\n",
        "  - `\"\"\"this is a triple quoted string using double quotes\"\"\"`\n",
        "- **`bool`** (boolean; a binary value that is either true or false)\n",
        "  - `True`\n",
        "  - `False`\n",
        "- **`NoneType`** (a special type representing the absence of a value)\n",
        "  - `None`\n",
        "\n",
        "In Python, a **variable** is a name you specify in your code that maps to a particular **object**, object **instance**, or value.\n",
        "\n",
        "By defining variables, we can refer to things by names that make sense to us. Names for variables can only contain letters, underscores (`_`), or numbers (no spaces, dashes, or other characters). Variable names must start with a letter or underscore.\n",
        "\n",
        "<hr>"
      ]
    },
    {
      "cell_type": "markdown",
      "metadata": {
        "id": "7J2KUFa4fllr",
        "colab_type": "text"
      },
      "source": [
        "## Basic operators\n",
        "\n",
        "In Python, there are different types of **operators** (special symbols) that operate on different values. Some of the basic operators include:\n",
        "\n",
        "- arithmetic operators\n",
        "  - **`+`** (addition)\n",
        "  - **`-`** (subtraction)\n",
        "  - **`*`** (multiplication)\n",
        "  - **`/`** (division)\n",
        "  - __`**`__ (exponent)\n",
        "- assignment operators\n",
        "  - **`=`** (assign a value)\n",
        "  - **`+=`** (add and re-assign; increment)\n",
        "  - **`-=`** (subtract and re-assign; decrement)\n",
        "  - **`*=`** (multiply and re-assign)\n",
        "- comparison operators (return either `True` or `False`)\n",
        "  - **`==`** (equal to)\n",
        "  - **`!=`** (not equal to)\n",
        "  - **`<`** (less than)\n",
        "  - **`<=`** (less than or equal to)\n",
        "  - **`>`** (greater than)\n",
        "  - **`>=`** (greater than or equal to)\n",
        "\n",
        "When multiple operators are used in a single expression, **operator precedence** determines which parts of the expression are evaluated in which order. Operators with higher precedence are evaluated first (like PEMDAS in math). Operators with the same precedence are evaluated from left to right.\n",
        "\n",
        "- `()` parentheses, for grouping\n",
        "- `**` exponent\n",
        "- `*`, `/` multiplication and division\n",
        "- `+`, `-` addition and subtraction\n",
        "- `==`, `!=`, `<`, `<=`, `>`, `>=` comparisons\n",
        "\n",
        "> See https://docs.python.org/3/reference/expressions.html#operator-precedence"
      ]
    },
    {
      "cell_type": "code",
      "metadata": {
        "id": "vIslCPSKfllt",
        "colab_type": "code",
        "colab": {}
      },
      "source": [
        "# Assigning some numbers to different variables\n",
        "num1 = 10\n",
        "num2 = -3\n",
        "num3 = 7.41\n",
        "num4 = -.6\n",
        "num5 = 7\n",
        "num6 = 3\n",
        "num7 = 11.11"
      ],
      "execution_count": 0,
      "outputs": []
    },
    {
      "cell_type": "code",
      "metadata": {
        "id": "uuDNAERtfll0",
        "colab_type": "code",
        "colab": {
          "base_uri": "https://localhost:8080/",
          "height": 182
        },
        "outputId": "a68d38ba-62b9-4eea-8e5f-71a15c99d5a6"
      },
      "source": [
        "# Addition\n",
        "result= (num1 + num2)\n",
        "print (result)"
      ],
      "execution_count": 1,
      "outputs": [
        {
          "output_type": "error",
          "ename": "NameError",
          "evalue": "ignored",
          "traceback": [
            "\u001b[0;31m---------------------------------------------------------------------------\u001b[0m",
            "\u001b[0;31mNameError\u001b[0m                                 Traceback (most recent call last)",
            "\u001b[0;32m<ipython-input-1-58e61d49b2ae>\u001b[0m in \u001b[0;36m<module>\u001b[0;34m()\u001b[0m\n\u001b[0;32m----> 1\u001b[0;31m \u001b[0mresult\u001b[0m\u001b[0;34m=\u001b[0m \u001b[0;34m(\u001b[0m\u001b[0mnum1\u001b[0m \u001b[0;34m+\u001b[0m \u001b[0mnum2\u001b[0m\u001b[0;34m)\u001b[0m\u001b[0;34m\u001b[0m\u001b[0;34m\u001b[0m\u001b[0m\n\u001b[0m\u001b[1;32m      2\u001b[0m \u001b[0mprint\u001b[0m \u001b[0;34m(\u001b[0m\u001b[0mresult\u001b[0m\u001b[0;34m)\u001b[0m\u001b[0;34m\u001b[0m\u001b[0;34m\u001b[0m\u001b[0m\n",
            "\u001b[0;31mNameError\u001b[0m: name 'num1' is not defined"
          ]
        }
      ]
    },
    {
      "cell_type": "code",
      "metadata": {
        "id": "3NGdgqOxfll8",
        "colab_type": "code",
        "colab": {},
        "outputId": "ac156d99-e6f4-45e3-b5da-4334d7d12a27"
      },
      "source": [
        "# Subtraction\n",
        "num2 - num3"
      ],
      "execution_count": 0,
      "outputs": [
        {
          "output_type": "execute_result",
          "data": {
            "text/plain": [
              "-10.41"
            ]
          },
          "metadata": {
            "tags": []
          },
          "execution_count": 3
        }
      ]
    },
    {
      "cell_type": "code",
      "metadata": {
        "id": "7Sl2eBGZflmD",
        "colab_type": "code",
        "colab": {},
        "outputId": "66241c74-1b3a-4478-9074-a41ede62c5e0"
      },
      "source": [
        "# Multiplication\n",
        "num3 * num4"
      ],
      "execution_count": 0,
      "outputs": [
        {
          "output_type": "execute_result",
          "data": {
            "text/plain": [
              "-4.446"
            ]
          },
          "metadata": {
            "tags": []
          },
          "execution_count": 4
        }
      ]
    },
    {
      "cell_type": "code",
      "metadata": {
        "id": "izPUbNVLflmI",
        "colab_type": "code",
        "colab": {},
        "outputId": "05d9ee08-13c7-4668-a18f-85d37101eec1"
      },
      "source": [
        "# Division\n",
        "print(num4 / num5)\n",
        "num4 // num5"
      ],
      "execution_count": 0,
      "outputs": [
        {
          "output_type": "stream",
          "text": [
            "-0.08571428571428572\n"
          ],
          "name": "stdout"
        },
        {
          "output_type": "execute_result",
          "data": {
            "text/plain": [
              "-1.0"
            ]
          },
          "metadata": {
            "tags": []
          },
          "execution_count": 8
        }
      ]
    },
    {
      "cell_type": "code",
      "metadata": {
        "id": "kQ33HyobflmN",
        "colab_type": "code",
        "colab": {},
        "outputId": "8bd6b1e6-2482-4b19-a3ea-d036a90b4896"
      },
      "source": [
        "# Exponent\n",
        "num5 ** num6"
      ],
      "execution_count": 0,
      "outputs": [
        {
          "output_type": "execute_result",
          "data": {
            "text/plain": [
              "343"
            ]
          },
          "metadata": {
            "tags": []
          },
          "execution_count": 6
        }
      ]
    },
    {
      "cell_type": "code",
      "metadata": {
        "id": "H-sLoz56flmS",
        "colab_type": "code",
        "colab": {},
        "outputId": "88502cea-892a-4b00-e591-701442d9febd"
      },
      "source": [
        "# Increment existing variable\n",
        "num7 += 4\n",
        "num7"
      ],
      "execution_count": 0,
      "outputs": [
        {
          "output_type": "execute_result",
          "data": {
            "text/plain": [
              "19.11"
            ]
          },
          "metadata": {
            "tags": []
          },
          "execution_count": 9
        }
      ]
    },
    {
      "cell_type": "code",
      "metadata": {
        "id": "BMg2WHYTflmY",
        "colab_type": "code",
        "colab": {},
        "outputId": "41205704-0d92-4290-b526-5e70d6eb1546"
      },
      "source": [
        "# Decrement existing variable\n",
        "num6 -= 2\n",
        "num6"
      ],
      "execution_count": 0,
      "outputs": [
        {
          "output_type": "execute_result",
          "data": {
            "text/plain": [
              "1"
            ]
          },
          "metadata": {
            "tags": []
          },
          "execution_count": 8
        }
      ]
    },
    {
      "cell_type": "code",
      "metadata": {
        "id": "2qPzBeXtflmf",
        "colab_type": "code",
        "colab": {},
        "outputId": "b7c441ff-5e23-4976-df4e-d87bb9c7e148"
      },
      "source": [
        "# Multiply & re-assign\n",
        "num3 *= 5\n",
        "num3"
      ],
      "execution_count": 0,
      "outputs": [
        {
          "output_type": "execute_result",
          "data": {
            "text/plain": [
              "37.05"
            ]
          },
          "metadata": {
            "tags": []
          },
          "execution_count": 9
        }
      ]
    },
    {
      "cell_type": "code",
      "metadata": {
        "id": "f8BZDmrLflmm",
        "colab_type": "code",
        "colab": {},
        "outputId": "e196dab5-8fcf-4b03-9481-b5af9318f9f7"
      },
      "source": [
        "# Assign the value of an expression to a variable\n",
        "num8 = num1 + num2 * num3\n",
        "num8"
      ],
      "execution_count": 0,
      "outputs": [
        {
          "output_type": "execute_result",
          "data": {
            "text/plain": [
              "-101.14999999999999"
            ]
          },
          "metadata": {
            "tags": []
          },
          "execution_count": 10
        }
      ]
    },
    {
      "cell_type": "code",
      "metadata": {
        "id": "Xeveg6y-flmq",
        "colab_type": "code",
        "colab": {},
        "outputId": "9f985515-a8ca-409e-c252-898a21c298cb"
      },
      "source": [
        "# Are these two expressions equal to each other?\n",
        "num1 + num2 == num5"
      ],
      "execution_count": 0,
      "outputs": [
        {
          "output_type": "execute_result",
          "data": {
            "text/plain": [
              "True"
            ]
          },
          "metadata": {
            "tags": []
          },
          "execution_count": 11
        }
      ]
    },
    {
      "cell_type": "code",
      "metadata": {
        "id": "W4IovyoIflmv",
        "colab_type": "code",
        "colab": {},
        "outputId": "fb76032b-592f-4721-82a9-b708b60d98b0"
      },
      "source": [
        "# Are these two expressions not equal to each other?\n",
        "num3 != num4"
      ],
      "execution_count": 0,
      "outputs": [
        {
          "output_type": "execute_result",
          "data": {
            "text/plain": [
              "True"
            ]
          },
          "metadata": {
            "tags": []
          },
          "execution_count": 12
        }
      ]
    },
    {
      "cell_type": "code",
      "metadata": {
        "id": "aHJof9BGflm0",
        "colab_type": "code",
        "colab": {},
        "outputId": "7a65334e-6aa6-4dd3-a679-fbd2a4b42080"
      },
      "source": [
        "# Is the first expression less than the second expression?\n",
        "num5 < num6"
      ],
      "execution_count": 0,
      "outputs": [
        {
          "output_type": "execute_result",
          "data": {
            "text/plain": [
              "False"
            ]
          },
          "metadata": {
            "tags": []
          },
          "execution_count": 13
        }
      ]
    },
    {
      "cell_type": "code",
      "metadata": {
        "id": "Im4UYi0cflm5",
        "colab_type": "code",
        "colab": {},
        "outputId": "04ca4af4-39fb-402e-bedb-0813d84b8b99"
      },
      "source": [
        "# Is this expression True?\n",
        "5 > 3 > 1"
      ],
      "execution_count": 0,
      "outputs": [
        {
          "output_type": "execute_result",
          "data": {
            "text/plain": [
              "True"
            ]
          },
          "metadata": {
            "tags": []
          },
          "execution_count": 14
        }
      ]
    },
    {
      "cell_type": "code",
      "metadata": {
        "id": "L7fk9plpflnH",
        "colab_type": "code",
        "colab": {},
        "outputId": "643c9a32-7685-4a08-aad6-86a5667d7a18"
      },
      "source": [
        "# Is this expression True?\n",
        "5 > 3 < 4 == 3 + 1"
      ],
      "execution_count": 0,
      "outputs": [
        {
          "output_type": "execute_result",
          "data": {
            "text/plain": [
              "True"
            ]
          },
          "metadata": {
            "tags": []
          },
          "execution_count": 15
        }
      ]
    },
    {
      "cell_type": "code",
      "metadata": {
        "id": "kgtcZ8CYflnL",
        "colab_type": "code",
        "colab": {}
      },
      "source": [
        "# Assign some strings to different variables\n",
        "simple_string1 = 'an example'\n",
        "simple_string2 = \"oranges \""
      ],
      "execution_count": 0,
      "outputs": []
    },
    {
      "cell_type": "code",
      "metadata": {
        "id": "3Oa0h_z-flnP",
        "colab_type": "code",
        "colab": {},
        "outputId": "0fe1f227-6ee0-47d4-9f30-9c8397f30106"
      },
      "source": [
        "# Addition\n",
        "simple_string1 + ' of using the + operator'"
      ],
      "execution_count": 0,
      "outputs": [
        {
          "output_type": "execute_result",
          "data": {
            "text/plain": [
              "'an example of using the + operator'"
            ]
          },
          "metadata": {
            "tags": []
          },
          "execution_count": 15
        }
      ]
    },
    {
      "cell_type": "code",
      "metadata": {
        "id": "BnaD9sr3flnU",
        "colab_type": "code",
        "colab": {},
        "outputId": "0624cbee-400f-4185-b532-2461805fc3f5"
      },
      "source": [
        "# Notice that the string was not modified\n",
        "simple_string1"
      ],
      "execution_count": 0,
      "outputs": [
        {
          "output_type": "execute_result",
          "data": {
            "text/plain": [
              "'an example'"
            ]
          },
          "metadata": {
            "tags": []
          },
          "execution_count": 18
        }
      ]
    },
    {
      "cell_type": "code",
      "metadata": {
        "id": "SKHbE9ZMflna",
        "colab_type": "code",
        "colab": {},
        "outputId": "32c5e606-4867-4186-dee0-e7c07d075ce8"
      },
      "source": [
        "# Multiplication\n",
        "simple_string2 * 4"
      ],
      "execution_count": 0,
      "outputs": [
        {
          "output_type": "execute_result",
          "data": {
            "text/plain": [
              "'oranges oranges oranges oranges '"
            ]
          },
          "metadata": {
            "tags": []
          },
          "execution_count": 16
        }
      ]
    },
    {
      "cell_type": "code",
      "metadata": {
        "id": "rs_SWX0Yflnt",
        "colab_type": "code",
        "colab": {},
        "outputId": "cf87d277-c62b-44fb-ac65-5e81ee73641a"
      },
      "source": [
        "# This string wasn't modified either\n",
        "simple_string2"
      ],
      "execution_count": 0,
      "outputs": [
        {
          "output_type": "execute_result",
          "data": {
            "text/plain": [
              "'oranges '"
            ]
          },
          "metadata": {
            "tags": []
          },
          "execution_count": 17
        }
      ]
    },
    {
      "cell_type": "code",
      "metadata": {
        "id": "IdngQ0ECflny",
        "colab_type": "code",
        "colab": {},
        "outputId": "03839fff-5a11-4f7d-a283-4bfa08d493bd"
      },
      "source": [
        "# Are these two expressions equal to each other?\n",
        "simple_string1 == simple_string2"
      ],
      "execution_count": 0,
      "outputs": [
        {
          "output_type": "execute_result",
          "data": {
            "text/plain": [
              "False"
            ]
          },
          "metadata": {
            "tags": []
          },
          "execution_count": 18
        }
      ]
    },
    {
      "cell_type": "code",
      "metadata": {
        "id": "hW98XnAZfln2",
        "colab_type": "code",
        "colab": {},
        "outputId": "34f36068-fc95-46cd-a6e6-480be0b1e3ea"
      },
      "source": [
        "# Are these two expressions equal to each other?\n",
        "simple_string1 == 'an example'"
      ],
      "execution_count": 0,
      "outputs": [
        {
          "output_type": "execute_result",
          "data": {
            "text/plain": [
              "True"
            ]
          },
          "metadata": {
            "tags": []
          },
          "execution_count": 22
        }
      ]
    },
    {
      "cell_type": "code",
      "metadata": {
        "id": "2FwW9Ixhfln8",
        "colab_type": "code",
        "colab": {},
        "outputId": "cf2097e1-447a-4d01-9e6f-acc394bbd4fb"
      },
      "source": [
        "# Add and re-assign\n",
        "simple_string1 += ' that re-assigned the original string'\n",
        "simple_string1"
      ],
      "execution_count": 0,
      "outputs": [
        {
          "output_type": "execute_result",
          "data": {
            "text/plain": [
              "'an example that re-assigned the original string'"
            ]
          },
          "metadata": {
            "tags": []
          },
          "execution_count": 20
        }
      ]
    },
    {
      "cell_type": "code",
      "metadata": {
        "id": "rPg-ZgLmfloC",
        "colab_type": "code",
        "colab": {},
        "outputId": "831eedd6-dcc9-4884-be4e-e1b133cab9e2"
      },
      "source": [
        "# Multiply and re-assign\n",
        "simple_string2 *= 3\n",
        "simple_string2"
      ],
      "execution_count": 0,
      "outputs": [
        {
          "output_type": "execute_result",
          "data": {
            "text/plain": [
              "'oranges oranges oranges '"
            ]
          },
          "metadata": {
            "tags": []
          },
          "execution_count": 24
        }
      ]
    },
    {
      "cell_type": "code",
      "metadata": {
        "id": "iTCh1r2MfloI",
        "colab_type": "code",
        "colab": {},
        "outputId": "908df8ff-2bfa-4db8-e7ad-ddf8b589ba6e"
      },
      "source": [
        "# Note: Subtraction, division, and decrement operators do not apply to strings.\n",
        "simple_string2-simple_string1"
      ],
      "execution_count": 0,
      "outputs": [
        {
          "output_type": "error",
          "ename": "TypeError",
          "evalue": "unsupported operand type(s) for -: 'str' and 'str'",
          "traceback": [
            "\u001b[1;31m---------------------------------------------------------------------------\u001b[0m",
            "\u001b[1;31mTypeError\u001b[0m                                 Traceback (most recent call last)",
            "\u001b[1;32m<ipython-input-21-77980d2e80b1>\u001b[0m in \u001b[0;36m<module>\u001b[1;34m\u001b[0m\n\u001b[0;32m      1\u001b[0m \u001b[1;31m# Note: Subtraction, division, and decrement operators do not apply to strings.\u001b[0m\u001b[1;33m\u001b[0m\u001b[1;33m\u001b[0m\u001b[1;33m\u001b[0m\u001b[0m\n\u001b[1;32m----> 2\u001b[1;33m \u001b[0msimple_string2\u001b[0m\u001b[1;33m-\u001b[0m\u001b[0msimple_string1\u001b[0m\u001b[1;33m\u001b[0m\u001b[1;33m\u001b[0m\u001b[0m\n\u001b[0m",
            "\u001b[1;31mTypeError\u001b[0m: unsupported operand type(s) for -: 'str' and 'str'"
          ]
        }
      ]
    },
    {
      "cell_type": "markdown",
      "metadata": {
        "id": "GUONdREmfloN",
        "colab_type": "text"
      },
      "source": [
        "## Basic containers\n",
        "\n",
        "> Note: **mutable** objects can be modified after creation and **immutable** objects cannot.\n",
        "\n",
        "Containers are objects that can be used to group other objects together. The basic container types include:\n",
        "\n",
        "- **`str`** (string: immutable; indexed by integers; items are stored in the order they were added)\n",
        "- **`list`** (list: mutable; indexed by integers; items are stored in the order they were added)\n",
        "  - `[3, 5, 6, 3, 'dog', 'cat', False]`\n",
        "- **`tuple`** (tuple: immutable; indexed by integers; items are stored in the order they were added)\n",
        "  - `(3, 5, 6, 3, 'dog', 'cat', False)`\n",
        "- **`set`** (set: mutable; not indexed at all; items are NOT stored in the order they were added; can only contain immutable objects; does NOT contain duplicate objects)\n",
        "  - `{3, 5, 6, 3, 'dog', 'cat', False}`\n",
        "- **`dict`** (dictionary: mutable; key-value pairs are indexed by immutable keys; items are NOT stored in the order they were added)\n",
        "  - `{'name': 'Jane', 'age': 23, 'fav_foods': ['pizza', 'fruit', 'fish']}`\n",
        "\n",
        "When defining lists, tuples, or sets, use commas (,) to separate the individual items. When defining dicts, use a colon (:) to separate keys from values and commas (,) to separate the key-value pairs.\n",
        "\n",
        "Strings, lists, and tuples are all **sequence types** that can use the `+`, `*`, `+=`, and `*=` operators."
      ]
    },
    {
      "cell_type": "code",
      "metadata": {
        "id": "Z8Mx4tjwfloO",
        "colab_type": "code",
        "colab": {}
      },
      "source": [
        "# Assign some containers to different variables\n",
        "list1 = [3, 5, 6, 3, 'dog', 'cat', False]\n",
        "tuple1 = (3, 5, 6, 3, 'dog', 'cat', False)\n",
        "set1 = {3, 5, 6, 3, 'dog', 'cat', False}\n",
        "dict1 = {'name': 'Jane', 'age': 23, 'fav_foods': ['pizza', 'fruit', 'fish']}"
      ],
      "execution_count": 0,
      "outputs": []
    },
    {
      "cell_type": "code",
      "metadata": {
        "id": "_EHDLtlPfloU",
        "colab_type": "code",
        "colab": {},
        "outputId": "d1829c51-f03e-4623-dfee-da7e7dc1e7cd"
      },
      "source": [
        "# Items in the list object are stored in the order they were added\n",
        "list1"
      ],
      "execution_count": 0,
      "outputs": [
        {
          "output_type": "execute_result",
          "data": {
            "text/plain": [
              "[3, 5, 6, 3, 'dog', 'cat', False]"
            ]
          },
          "metadata": {
            "tags": []
          },
          "execution_count": 23
        }
      ]
    },
    {
      "cell_type": "code",
      "metadata": {
        "id": "iFds3wV7flob",
        "colab_type": "code",
        "colab": {},
        "outputId": "b5d312bf-a88c-4f84-ae7f-b1cda8be303f"
      },
      "source": [
        "# Items in the tuple object are stored in the order they were added\n",
        "tuple1"
      ],
      "execution_count": 0,
      "outputs": [
        {
          "output_type": "execute_result",
          "data": {
            "text/plain": [
              "(3, 5, 6, 3, 'dog', 'cat', False)"
            ]
          },
          "metadata": {
            "tags": []
          },
          "execution_count": 24
        }
      ]
    },
    {
      "cell_type": "code",
      "metadata": {
        "id": "oJF5Nt83flol",
        "colab_type": "code",
        "colab": {},
        "outputId": "ceb496cb-7f01-43b0-a273-ee470f813e53"
      },
      "source": [
        "# Items in the set object are not stored in the order they were added\n",
        "# Also, notice that the value 3 only appears once in this set object\n",
        "set1"
      ],
      "execution_count": 0,
      "outputs": [
        {
          "output_type": "execute_result",
          "data": {
            "text/plain": [
              "{3, 5, 6, False, 'cat', 'dog'}"
            ]
          },
          "metadata": {
            "tags": []
          },
          "execution_count": 25
        }
      ]
    },
    {
      "cell_type": "code",
      "metadata": {
        "id": "w0W0ARQ_flop",
        "colab_type": "code",
        "colab": {},
        "outputId": "ce0b9876-336f-4ebd-e3d9-46fac1957a9c"
      },
      "source": [
        "# Items in the dict object are not stored in the order they were added\n",
        "dict1"
      ],
      "execution_count": 0,
      "outputs": [
        {
          "output_type": "execute_result",
          "data": {
            "text/plain": [
              "{'name': 'Jane', 'age': 23, 'fav_foods': ['pizza', 'fruit', 'fish']}"
            ]
          },
          "metadata": {
            "tags": []
          },
          "execution_count": 26
        }
      ]
    },
    {
      "cell_type": "code",
      "metadata": {
        "id": "fW_K-Cr6floz",
        "colab_type": "code",
        "colab": {},
        "outputId": "9553b5c5-f318-4b76-b891-d61583e1f8de"
      },
      "source": [
        "# Add and re-assign\n",
        "list1 += [5, 'grapes']\n",
        "list1"
      ],
      "execution_count": 0,
      "outputs": [
        {
          "output_type": "execute_result",
          "data": {
            "text/plain": [
              "[3, 5, 6, 3, 'dog', 'cat', False, 5, 'grapes']"
            ]
          },
          "metadata": {
            "tags": []
          },
          "execution_count": 27
        }
      ]
    },
    {
      "cell_type": "code",
      "metadata": {
        "id": "LryIs8FEflo5",
        "colab_type": "code",
        "colab": {},
        "outputId": "471cdbb6-d634-47c7-f97c-fc4da1817fa9"
      },
      "source": [
        "# Add and re-assign\n",
        "tuple1 += (5, 'grapes')\n",
        "tuple1"
      ],
      "execution_count": 0,
      "outputs": [
        {
          "output_type": "execute_result",
          "data": {
            "text/plain": [
              "(3, 5, 6, 3, 'dog', 'cat', False, 5, 'grapes')"
            ]
          },
          "metadata": {
            "tags": []
          },
          "execution_count": 28
        }
      ]
    },
    {
      "cell_type": "code",
      "metadata": {
        "id": "FdvWWPVNflo9",
        "colab_type": "code",
        "colab": {},
        "outputId": "2906b158-d176-44bf-8123-d86d96befec1"
      },
      "source": [
        "# Multiply\n",
        "[1, 2, 3, 4] * 2"
      ],
      "execution_count": 0,
      "outputs": [
        {
          "output_type": "execute_result",
          "data": {
            "text/plain": [
              "[1, 2, 3, 4, 1, 2, 3, 4]"
            ]
          },
          "metadata": {
            "tags": []
          },
          "execution_count": 33
        }
      ]
    },
    {
      "cell_type": "code",
      "metadata": {
        "id": "6LItERawflpD",
        "colab_type": "code",
        "colab": {},
        "outputId": "0be26e2f-b219-4682-8da4-35dfe89c9bab"
      },
      "source": [
        "# Multiply\n",
        "(1, 2, 3, 4) * 3"
      ],
      "execution_count": 0,
      "outputs": [
        {
          "output_type": "execute_result",
          "data": {
            "text/plain": [
              "(1, 2, 3, 4, 1, 2, 3, 4, 1, 2, 3, 4)"
            ]
          },
          "metadata": {
            "tags": []
          },
          "execution_count": 29
        }
      ]
    },
    {
      "cell_type": "markdown",
      "metadata": {
        "id": "wyg8xHNKflpH",
        "colab_type": "text"
      },
      "source": [
        "## Accessing data in containers\n",
        "\n",
        "For strings, lists, tuples, and dicts, we can use **subscript notation** (square brackets) to access data at an index.\n",
        "\n",
        "- strings, lists, and tuples are indexed by integers, **starting at 0** for first item\n",
        "  - these sequence types also support accesing a range of items, known as **slicing**\n",
        "  - use **negative indexing** to start at the back of the sequence\n",
        "- dicts are indexed by their keys\n",
        "\n",
        "> Note: sets are not indexed, so we cannot use subscript notation to access data elements."
      ]
    },
    {
      "cell_type": "code",
      "metadata": {
        "id": "jTOLFL3rflpI",
        "colab_type": "code",
        "colab": {},
        "outputId": "bac45ca1-1405-4e44-ef95-07540e790909"
      },
      "source": [
        "# Access the first item in a sequence\n",
        "list1[0]"
      ],
      "execution_count": 0,
      "outputs": [
        {
          "output_type": "execute_result",
          "data": {
            "text/plain": [
              "3"
            ]
          },
          "metadata": {
            "tags": []
          },
          "execution_count": 35
        }
      ]
    },
    {
      "cell_type": "code",
      "metadata": {
        "id": "pyTCDXAeflpX",
        "colab_type": "code",
        "colab": {},
        "outputId": "4c9c4968-be88-451b-cbd0-68c8e76830c2"
      },
      "source": [
        "# Access the last item in a sequence\n",
        "tuple1[-1]"
      ],
      "execution_count": 0,
      "outputs": [
        {
          "output_type": "execute_result",
          "data": {
            "text/plain": [
              "'grapes'"
            ]
          },
          "metadata": {
            "tags": []
          },
          "execution_count": 30
        }
      ]
    },
    {
      "cell_type": "code",
      "metadata": {
        "id": "_OpsamSiflpc",
        "colab_type": "code",
        "colab": {},
        "outputId": "ed891f1e-84ea-416f-c4bf-46acdf759aba"
      },
      "source": [
        "# Access a range of items in a sequence\n",
        "simple_string1[3:8]"
      ],
      "execution_count": 0,
      "outputs": [
        {
          "output_type": "execute_result",
          "data": {
            "text/plain": [
              "'examp'"
            ]
          },
          "metadata": {
            "tags": []
          },
          "execution_count": 37
        }
      ]
    },
    {
      "cell_type": "code",
      "metadata": {
        "id": "y_Ayyy3xflpi",
        "colab_type": "code",
        "colab": {},
        "outputId": "13664298-7be6-4efc-9e05-2209b4055ffb"
      },
      "source": [
        "# Access a range of items in a sequence\n",
        "print(tuple1)\n",
        "tuple1[:-3]"
      ],
      "execution_count": 0,
      "outputs": [
        {
          "output_type": "stream",
          "text": [
            "(3, 5, 6, 3, 'dog', 'cat', False)\n"
          ],
          "name": "stdout"
        },
        {
          "output_type": "execute_result",
          "data": {
            "text/plain": [
              "(3, 5, 6, 3)"
            ]
          },
          "metadata": {
            "tags": []
          },
          "execution_count": 11
        }
      ]
    },
    {
      "cell_type": "code",
      "metadata": {
        "id": "7v1b0KyAflpm",
        "colab_type": "code",
        "colab": {},
        "outputId": "69683847-099f-4c2f-b0d8-7d3c0b24fe64"
      },
      "source": [
        "es = [0,1,2,3,4,5,6,7,8,9]\n",
        "print(es[2:5])\n",
        "print(es[5:7])\n"
      ],
      "execution_count": 0,
      "outputs": [
        {
          "output_type": "stream",
          "text": [
            "[2, 3, 4]\n",
            "[5, 6]\n",
            "[0, 1, 2, 3, 4, 5, 6, 7, 8, 9]\n",
            "[0, 1, 2, 3, 4, 5, 6, 7, 8, 9]\n",
            "[0, 1, 2, 3, 4, 5, 6, 7, 8, 9, 666]\n"
          ],
          "name": "stdout"
        }
      ]
    },
    {
      "cell_type": "code",
      "metadata": {
        "id": "OPL9T7kWflps",
        "colab_type": "code",
        "colab": {},
        "outputId": "ae501cde-18e3-4d39-c683-87ea6752b3c4"
      },
      "source": [
        "gigio=es[:]\n",
        "gigio.append(666)\n",
        "print(gigio)\n",
        "print(es)\n"
      ],
      "execution_count": 0,
      "outputs": [
        {
          "output_type": "stream",
          "text": [
            "[0, 1, 2, 3, 4, 5, 6, 7, 8, 9, 666]\n",
            "[0, 1, 2, 3, 4, 5, 6, 7, 8, 9]\n"
          ],
          "name": "stdout"
        }
      ]
    },
    {
      "cell_type": "code",
      "metadata": {
        "id": "iRvkrpE_flpw",
        "colab_type": "code",
        "colab": {},
        "outputId": "d17bdb95-3ec2-47af-a42c-25a73f15bb59"
      },
      "source": [
        "# Access a range of items in a sequence\n",
        "print(list1)\n",
        "list1[4:]"
      ],
      "execution_count": 0,
      "outputs": [
        {
          "output_type": "stream",
          "text": [
            "[3, 5, 6, 3, 'dog', 'cat', False]\n"
          ],
          "name": "stdout"
        },
        {
          "output_type": "execute_result",
          "data": {
            "text/plain": [
              "['dog', 'cat', False]"
            ]
          },
          "metadata": {
            "tags": []
          },
          "execution_count": 13
        }
      ]
    },
    {
      "cell_type": "code",
      "metadata": {
        "id": "Y9khMOUAflp2",
        "colab_type": "code",
        "colab": {},
        "outputId": "04799b92-f9ea-4869-9f81-21a2069922f6"
      },
      "source": [
        "gigio=es\n",
        "gigio.append(666)\n",
        "print(gigio)\n",
        "print(es)\n"
      ],
      "execution_count": 0,
      "outputs": [
        {
          "output_type": "stream",
          "text": [
            "[0, 1, 2, 3, 4, 5, 6, 7, 8, 9, 666]\n",
            "[0, 1, 2, 3, 4, 5, 6, 7, 8, 9, 666]\n"
          ],
          "name": "stdout"
        }
      ]
    },
    {
      "cell_type": "code",
      "metadata": {
        "id": "pLgb6kFaflqD",
        "colab_type": "code",
        "colab": {},
        "outputId": "3b5f1200-c7f4-40da-a497-e17cea0d09e7"
      },
      "source": [
        "# Access an item in a dictionary\n",
        "dict1['name']"
      ],
      "execution_count": 0,
      "outputs": [
        {
          "output_type": "execute_result",
          "data": {
            "text/plain": [
              "'Jane'"
            ]
          },
          "metadata": {
            "tags": []
          },
          "execution_count": 38
        }
      ]
    },
    {
      "cell_type": "code",
      "metadata": {
        "id": "_8Fflrv9flqH",
        "colab_type": "code",
        "colab": {},
        "outputId": "9c1db197-dfc3-49f6-e057-fd75298d9590"
      },
      "source": [
        "# Access an element of a sequence in a dictionary\n",
        "print(dict1)\n",
        "dict1['fav_foods'][2]"
      ],
      "execution_count": 0,
      "outputs": [
        {
          "output_type": "stream",
          "text": [
            "{'name': 'Jane', 'age': 23, 'fav_foods': ['pizza', 'fruit', 'fish']}\n"
          ],
          "name": "stdout"
        },
        {
          "output_type": "execute_result",
          "data": {
            "text/plain": [
              "'fish'"
            ]
          },
          "metadata": {
            "tags": []
          },
          "execution_count": 14
        }
      ]
    },
    {
      "cell_type": "code",
      "metadata": {
        "id": "vOrPycK5flqc",
        "colab_type": "code",
        "colab": {},
        "outputId": "9228f67d-7134-4148-ce0b-901d6e6c6182"
      },
      "source": [
        "##creare un dict dentro a un dict e stampare una string contenuta nel dict più interno\n",
        "dict_est{'name_dict': 'dict_int', 'dict_int': {'name_dict'='50'}}\n",
        "dict_est['dict_int']['name_dict']"
      ],
      "execution_count": 0,
      "outputs": [
        {
          "output_type": "error",
          "ename": "SyntaxError",
          "evalue": "invalid syntax (<ipython-input-42-89dd4961d79e>, line 2)",
          "traceback": [
            "\u001b[1;36m  File \u001b[1;32m\"<ipython-input-42-89dd4961d79e>\"\u001b[1;36m, line \u001b[1;32m2\u001b[0m\n\u001b[1;33m    dict_est{'name_dict': 'dict_int', 'dict_int': {'name_dict'='50'}}\u001b[0m\n\u001b[1;37m            ^\u001b[0m\n\u001b[1;31mSyntaxError\u001b[0m\u001b[1;31m:\u001b[0m invalid syntax\n"
          ]
        }
      ]
    },
    {
      "cell_type": "markdown",
      "metadata": {
        "id": "x7KvhOPGflqf",
        "colab_type": "text"
      },
      "source": [
        "## Python built-in functions and callables\n",
        "\n",
        "A **function** is a Python object that you can \"call\" to **perform an action** or compute and **return another object**. You call a function by placing parentheses to the right of the function name. Some functions allow you to pass **arguments** inside the parentheses (separating multiple arguments with a comma). Internal to the function, these arguments are treated like variables.\n",
        "\n",
        "Python has several useful built-in functions to help you work with different objects and/or your environment. Here is a small sample of them:\n",
        "\n",
        "- **`type(obj)`** to determine the type of an object\n",
        "- **`len(container)`** to determine how many items are in a container\n",
        "- **`callable(obj)`** to determine if an object is callable\n",
        "- **`sorted(container)`** to return a new list from a container, with the items sorted\n",
        "- **`sum(container)`** to compute the sum of a container of numbers\n",
        "- **`min(container)`** to determine the smallest item in a container\n",
        "- **`max(container)`** to determine the largest item in a container\n",
        "- **`abs(number)`** to determine the absolute value of a number\n",
        "- **`repr(obj)`** to return a string representation of an object\n",
        "\n",
        "> Complete list of built-in functions: https://docs.python.org/3/library/functions.html\n",
        "\n",
        "There are also different ways of defining your own functions and callable objects that we will explore later."
      ]
    },
    {
      "cell_type": "code",
      "metadata": {
        "scrolled": true,
        "id": "VhO4z8HGflqr",
        "colab_type": "code",
        "colab": {},
        "outputId": "e33e0fd7-7305-4bf6-d1fc-90864b755991"
      },
      "source": [
        "# Use the type() function to determine the type of an object\n",
        "type(simple_string1)"
      ],
      "execution_count": 0,
      "outputs": [
        {
          "output_type": "execute_result",
          "data": {
            "text/plain": [
              "str"
            ]
          },
          "metadata": {
            "tags": []
          },
          "execution_count": 42
        }
      ]
    },
    {
      "cell_type": "code",
      "metadata": {
        "id": "jEcxNAUJflqu",
        "colab_type": "code",
        "colab": {},
        "outputId": "4e89a11c-1b8c-4f7c-d4f9-4b3413479a73"
      },
      "source": [
        "# Use the len() function to determine how many items are in a container\n",
        "len(dict1)"
      ],
      "execution_count": 0,
      "outputs": [
        {
          "output_type": "execute_result",
          "data": {
            "text/plain": [
              "3"
            ]
          },
          "metadata": {
            "tags": []
          },
          "execution_count": 43
        }
      ]
    },
    {
      "cell_type": "code",
      "metadata": {
        "id": "ESItEiQwflq2",
        "colab_type": "code",
        "colab": {},
        "outputId": "5b4a4212-c7f4-4bbf-a6d5-f67c85863335"
      },
      "source": [
        "type(tuple1)"
      ],
      "execution_count": 0,
      "outputs": [
        {
          "output_type": "execute_result",
          "data": {
            "text/plain": [
              "tuple"
            ]
          },
          "metadata": {
            "tags": []
          },
          "execution_count": 43
        }
      ]
    },
    {
      "cell_type": "code",
      "metadata": {
        "id": "bDnKQ5Hhflq5",
        "colab_type": "code",
        "colab": {},
        "outputId": "b5a2f073-0676-4a9d-a7be-90c0ba367461"
      },
      "source": [
        "# Use the len() function to determine how many items are in a container\n",
        "len(simple_string2)"
      ],
      "execution_count": 0,
      "outputs": [
        {
          "output_type": "execute_result",
          "data": {
            "text/plain": [
              "24"
            ]
          },
          "metadata": {
            "tags": []
          },
          "execution_count": 44
        }
      ]
    },
    {
      "cell_type": "code",
      "metadata": {
        "id": "fpXkaR0bflq8",
        "colab_type": "code",
        "colab": {},
        "outputId": "dd4507a2-20b8-494f-f435-7d7995d57dc9"
      },
      "source": [
        "# Use the callable() function to determine if an object is callable\n",
        "callable(len)"
      ],
      "execution_count": 0,
      "outputs": [
        {
          "output_type": "execute_result",
          "data": {
            "text/plain": [
              "True"
            ]
          },
          "metadata": {
            "tags": []
          },
          "execution_count": 45
        }
      ]
    },
    {
      "cell_type": "code",
      "metadata": {
        "id": "MywhspxBflrM",
        "colab_type": "code",
        "colab": {},
        "outputId": "7f76ebd9-65a0-4867-aaf2-219fd75a1ed8"
      },
      "source": [
        "# Use the callable() function to determine if an object is callable\n",
        "callable(dict1)"
      ],
      "execution_count": 0,
      "outputs": [
        {
          "output_type": "execute_result",
          "data": {
            "text/plain": [
              "False"
            ]
          },
          "metadata": {
            "tags": []
          },
          "execution_count": 46
        }
      ]
    },
    {
      "cell_type": "code",
      "metadata": {
        "id": "cAazghZfflrR",
        "colab_type": "code",
        "colab": {},
        "outputId": "34a0a1e1-3423-4349-e9db-df54464285f8"
      },
      "source": [
        "# Use the sorted() function to return a new list from a container, with the items sorted\n",
        "sorted([10, 1, 3.6, 7, 5, 2, -3])"
      ],
      "execution_count": 0,
      "outputs": [
        {
          "output_type": "execute_result",
          "data": {
            "text/plain": [
              "[-3, 1, 2, 3.6, 5, 7, 10]"
            ]
          },
          "metadata": {
            "tags": []
          },
          "execution_count": 47
        }
      ]
    },
    {
      "cell_type": "code",
      "metadata": {
        "id": "I6X3y0U3flrY",
        "colab_type": "code",
        "colab": {},
        "outputId": "718cae37-6dea-4ce8-b5c1-e0eaf5861ab6"
      },
      "source": [
        "# Use the sorted() function to return a new list from a container, with the items sorted\n",
        "# - notice that capitalized strings come first\n",
        "sorted(['dogs', 'cats', 'zebras', 'Chicago', 'California', 'ants', 'mice'])"
      ],
      "execution_count": 0,
      "outputs": [
        {
          "output_type": "execute_result",
          "data": {
            "text/plain": [
              "['California', 'Chicago', 'ants', 'cats', 'dogs', 'mice', 'zebras']"
            ]
          },
          "metadata": {
            "tags": []
          },
          "execution_count": 48
        }
      ]
    },
    {
      "cell_type": "code",
      "metadata": {
        "id": "klD7GkOCflrn",
        "colab_type": "code",
        "colab": {},
        "outputId": "73b81134-cb16-493f-9fce-aaa6e3bce577"
      },
      "source": [
        "# Use the sum() function to compute the sum of a container of numbers\n",
        "sum([10, 1, 3.6, 7, 5, 2, -3])"
      ],
      "execution_count": 0,
      "outputs": [
        {
          "output_type": "execute_result",
          "data": {
            "text/plain": [
              "25.6"
            ]
          },
          "metadata": {
            "tags": []
          },
          "execution_count": 49
        }
      ]
    },
    {
      "cell_type": "code",
      "metadata": {
        "id": "bmYAHQnAflrs",
        "colab_type": "code",
        "colab": {},
        "outputId": "54edd429-1dc5-4949-d2cd-699b8a5ae08b"
      },
      "source": [
        "# Use the min() function to determine the smallest item in a container\n",
        "min([10, 1, 3.6, 7, 5, 2, -3])"
      ],
      "execution_count": 0,
      "outputs": [
        {
          "output_type": "execute_result",
          "data": {
            "text/plain": [
              "-3"
            ]
          },
          "metadata": {
            "tags": []
          },
          "execution_count": 50
        }
      ]
    },
    {
      "cell_type": "code",
      "metadata": {
        "id": "pUMRIuMNflry",
        "colab_type": "code",
        "colab": {},
        "outputId": "229a2238-01f5-42c4-b7ef-24ce709c5479"
      },
      "source": [
        "# Use the min() function to determine the smallest item in a container\n",
        "min(['g', 'z', 'a', 'y'])"
      ],
      "execution_count": 0,
      "outputs": [
        {
          "output_type": "execute_result",
          "data": {
            "text/plain": [
              "'a'"
            ]
          },
          "metadata": {
            "tags": []
          },
          "execution_count": 51
        }
      ]
    },
    {
      "cell_type": "code",
      "metadata": {
        "id": "Zhd0JmzLflr1",
        "colab_type": "code",
        "colab": {},
        "outputId": "5a224293-21e6-4304-a410-5a3356e17b4d"
      },
      "source": [
        "# Use the max() function to determine the largest item in a container\n",
        "max([10, 1, 3.6, 7, 5, 2, -3])"
      ],
      "execution_count": 0,
      "outputs": [
        {
          "output_type": "execute_result",
          "data": {
            "text/plain": [
              "10"
            ]
          },
          "metadata": {
            "tags": []
          },
          "execution_count": 52
        }
      ]
    },
    {
      "cell_type": "code",
      "metadata": {
        "id": "peso-vt7flr4",
        "colab_type": "code",
        "colab": {},
        "outputId": "9393fe85-609d-4ff2-bbfd-3f6112db4d9b"
      },
      "source": [
        "# Use the max() function to determine the largest item in a container\n",
        "max('gibberish')"
      ],
      "execution_count": 0,
      "outputs": [
        {
          "output_type": "execute_result",
          "data": {
            "text/plain": [
              "'s'"
            ]
          },
          "metadata": {
            "tags": []
          },
          "execution_count": 53
        }
      ]
    },
    {
      "cell_type": "code",
      "metadata": {
        "id": "Jqs80bNXflr7",
        "colab_type": "code",
        "colab": {},
        "outputId": "4eca087f-5f0d-406d-9df3-771f493ab2dd"
      },
      "source": [
        "# Use the abs() function to determine the absolute value of a number\n",
        "abs(10)"
      ],
      "execution_count": 0,
      "outputs": [
        {
          "output_type": "execute_result",
          "data": {
            "text/plain": [
              "10"
            ]
          },
          "metadata": {
            "tags": []
          },
          "execution_count": 54
        }
      ]
    },
    {
      "cell_type": "code",
      "metadata": {
        "id": "Zqfqdnucflsa",
        "colab_type": "code",
        "colab": {},
        "outputId": "3d690345-bc93-4be5-bae7-015c23a67012"
      },
      "source": [
        "# Use the abs() function to determine the absolute value of a number\n",
        "abs(-12)"
      ],
      "execution_count": 0,
      "outputs": [
        {
          "output_type": "execute_result",
          "data": {
            "text/plain": [
              "12"
            ]
          },
          "metadata": {
            "tags": []
          },
          "execution_count": 55
        }
      ]
    },
    {
      "cell_type": "code",
      "metadata": {
        "id": "eydS_Sjqflse",
        "colab_type": "code",
        "colab": {},
        "outputId": "a1f3e1db-93d6-402b-c36a-776ce4e95a90"
      },
      "source": [
        "# Use the repr() function to return a string representation of an object\n",
        "repr(set1)"
      ],
      "execution_count": 0,
      "outputs": [
        {
          "output_type": "execute_result",
          "data": {
            "text/plain": [
              "\"{False, 3, 5, 6, 'dog', 'cat'}\""
            ]
          },
          "metadata": {
            "tags": []
          },
          "execution_count": 56
        }
      ]
    },
    {
      "cell_type": "markdown",
      "metadata": {
        "id": "p8q1wqWfflsn",
        "colab_type": "text"
      },
      "source": [
        "## Python object attributes (methods and properties)\n",
        "\n",
        "Different types of objects in Python have different **attributes** that can be referred to by name (similar to a variable). To access an attribute of an object, use a dot (`.`) after the object, then specify the attribute (i.e. `obj.attribute`)\n",
        "\n",
        "When an attribute of an object is a callable, that attribute is called a **method**. It is the same as a function, only this function is bound to a particular object.\n",
        "\n",
        "When an attribute of an object is not a callable, that attribute is called a **property**. It is just a piece of data about the object, that is itself another object.\n",
        "\n",
        "The built-in `dir()` function can be used to return a list of an object's attributes.\n",
        "\n",
        "<hr>"
      ]
    },
    {
      "cell_type": "markdown",
      "metadata": {
        "id": "Q7spxLH1flso",
        "colab_type": "text"
      },
      "source": [
        "## Some methods on string objects\n",
        "\n",
        "- **`.capitalize()`** to return a capitalized version of the string (only first char uppercase)\n",
        "- **`.upper()`** to return an uppercase version of the string (all chars uppercase)\n",
        "- **`.lower()`** to return an lowercase version of the string (all chars lowercase)\n",
        "- **`.count(substring)`** to return the number of occurences of the substring in the string\n",
        "- **`.startswith(substring)`** to determine if the string starts with the substring\n",
        "- **`.endswith(substring)`** to determine if the string ends with the substring\n",
        "- **`.replace(old, new)`** to return a copy of the string with occurences of the \"old\" replaced by \"new\""
      ]
    },
    {
      "cell_type": "code",
      "metadata": {
        "id": "Qj_i19hLflsp",
        "colab_type": "code",
        "colab": {}
      },
      "source": [
        "# Assign a string to a variable\n",
        "a_string = 'tHis is a sTriNg'"
      ],
      "execution_count": 0,
      "outputs": []
    },
    {
      "cell_type": "code",
      "metadata": {
        "id": "tVHjzxMbflsy",
        "colab_type": "code",
        "colab": {},
        "outputId": "a4314dba-e75f-4439-d5ea-c44a1c8287e5"
      },
      "source": [
        "# Return a capitalized version of the string\n",
        "a_string.capitalize()"
      ],
      "execution_count": 0,
      "outputs": [
        {
          "output_type": "execute_result",
          "data": {
            "text/plain": [
              "'This is a string'"
            ]
          },
          "metadata": {
            "tags": []
          },
          "execution_count": 48
        }
      ]
    },
    {
      "cell_type": "code",
      "metadata": {
        "id": "Bc26FoSpfls4",
        "colab_type": "code",
        "colab": {},
        "outputId": "96c6a425-71f0-4944-aa10-8f853719b80a"
      },
      "source": [
        "# Return an uppercase version of the string\n",
        "a_string.upper()"
      ],
      "execution_count": 0,
      "outputs": [
        {
          "output_type": "execute_result",
          "data": {
            "text/plain": [
              "'THIS IS A STRING'"
            ]
          },
          "metadata": {
            "tags": []
          },
          "execution_count": 59
        }
      ]
    },
    {
      "cell_type": "code",
      "metadata": {
        "id": "1di-y6fVfls7",
        "colab_type": "code",
        "colab": {},
        "outputId": "9861d95d-de63-465f-a89a-5cb3bb525c0c"
      },
      "source": [
        "# Return a lowercase version of the string\n",
        "a_string.lower()"
      ],
      "execution_count": 0,
      "outputs": [
        {
          "output_type": "execute_result",
          "data": {
            "text/plain": [
              "'this is a string'"
            ]
          },
          "metadata": {
            "tags": []
          },
          "execution_count": 60
        }
      ]
    },
    {
      "cell_type": "code",
      "metadata": {
        "id": "36QR8dZufltC",
        "colab_type": "code",
        "colab": {},
        "outputId": "7477f401-3af0-4ced-e988-68f7ba8fc779"
      },
      "source": [
        "# Notice that the methods called have not actually modified the string\n",
        "a_string"
      ],
      "execution_count": 0,
      "outputs": [
        {
          "output_type": "execute_result",
          "data": {
            "text/plain": [
              "'tHis is a sTriNg'"
            ]
          },
          "metadata": {
            "tags": []
          },
          "execution_count": 61
        }
      ]
    },
    {
      "cell_type": "code",
      "metadata": {
        "id": "NRCgxfK1fltP",
        "colab_type": "code",
        "colab": {},
        "outputId": "be898b22-33da-4a1e-b608-d9326441c108"
      },
      "source": [
        "# Count number of occurences of a substring in the string\n",
        "a_string.count('i')"
      ],
      "execution_count": 0,
      "outputs": [
        {
          "output_type": "execute_result",
          "data": {
            "text/plain": [
              "3"
            ]
          },
          "metadata": {
            "tags": []
          },
          "execution_count": 62
        }
      ]
    },
    {
      "cell_type": "code",
      "metadata": {
        "id": "1TDKwlnvfltS",
        "colab_type": "code",
        "colab": {},
        "outputId": "0ec091e6-a9ec-49d3-f7c5-f68ec041d849"
      },
      "source": [
        "# Count number of occurences of a substring in the string after a certain position\n",
        "a_string.count('i', 7)"
      ],
      "execution_count": 0,
      "outputs": [
        {
          "output_type": "execute_result",
          "data": {
            "text/plain": [
              "1"
            ]
          },
          "metadata": {
            "tags": []
          },
          "execution_count": 63
        }
      ]
    },
    {
      "cell_type": "code",
      "metadata": {
        "id": "zhb3oOn5fltV",
        "colab_type": "code",
        "colab": {},
        "outputId": "f694aa7e-80b0-4c5e-e686-306f9f36996e"
      },
      "source": [
        "# Count number of occurences of a substring in the string\n",
        "a_string.count('is')"
      ],
      "execution_count": 0,
      "outputs": [
        {
          "output_type": "execute_result",
          "data": {
            "text/plain": [
              "2"
            ]
          },
          "metadata": {
            "tags": []
          },
          "execution_count": 64
        }
      ]
    },
    {
      "cell_type": "code",
      "metadata": {
        "id": "qbhyFobJfltc",
        "colab_type": "code",
        "colab": {},
        "outputId": "ccdd37bf-dab0-4631-d4a6-67d264c7a365"
      },
      "source": [
        "# Does the string start with 'this'?\n",
        "a_string.startswith('this')"
      ],
      "execution_count": 0,
      "outputs": [
        {
          "output_type": "execute_result",
          "data": {
            "text/plain": [
              "False"
            ]
          },
          "metadata": {
            "tags": []
          },
          "execution_count": 65
        }
      ]
    },
    {
      "cell_type": "code",
      "metadata": {
        "id": "2SzaYE_0fltg",
        "colab_type": "code",
        "colab": {},
        "outputId": "de7dcefb-7a3e-479e-dc3e-7058d012b086"
      },
      "source": [
        "# Does the lowercase string start with 'this'?\n",
        "a_string.lower().startswith('this')"
      ],
      "execution_count": 0,
      "outputs": [
        {
          "output_type": "execute_result",
          "data": {
            "text/plain": [
              "True"
            ]
          },
          "metadata": {
            "tags": []
          },
          "execution_count": 66
        }
      ]
    },
    {
      "cell_type": "code",
      "metadata": {
        "id": "EJB2MrFwfltj",
        "colab_type": "code",
        "colab": {},
        "outputId": "0ec14786-f956-43d6-9c25-866bf5757d0d"
      },
      "source": [
        "# Does the string end with 'Ng'?\n",
        "a_string.endswith('Ng')"
      ],
      "execution_count": 0,
      "outputs": [
        {
          "output_type": "execute_result",
          "data": {
            "text/plain": [
              "True"
            ]
          },
          "metadata": {
            "tags": []
          },
          "execution_count": 67
        }
      ]
    },
    {
      "cell_type": "code",
      "metadata": {
        "id": "eGiF-chWfltp",
        "colab_type": "code",
        "colab": {},
        "outputId": "06d486a1-85d9-416e-9962-c1eeaa2b0550"
      },
      "source": [
        "# Return a version of the string with a substring replaced with something else\n",
        "a_string.replace('is', 'XYZ')"
      ],
      "execution_count": 0,
      "outputs": [
        {
          "output_type": "execute_result",
          "data": {
            "text/plain": [
              "'tHXYZ XYZ a sTriNg'"
            ]
          },
          "metadata": {
            "tags": []
          },
          "execution_count": 68
        }
      ]
    },
    {
      "cell_type": "code",
      "metadata": {
        "id": "j6y9otWsflts",
        "colab_type": "code",
        "colab": {},
        "outputId": "fca90f9f-91c8-4cc7-e1d3-7988fc42d42b"
      },
      "source": [
        "# Return a version of the string with a substring replaced with something else\n",
        "a_string.replace('i', '!')"
      ],
      "execution_count": 0,
      "outputs": [
        {
          "output_type": "execute_result",
          "data": {
            "text/plain": [
              "'tH!s !s a sTr!Ng'"
            ]
          },
          "metadata": {
            "tags": []
          },
          "execution_count": 69
        }
      ]
    },
    {
      "cell_type": "code",
      "metadata": {
        "id": "jH0OWGR1fltw",
        "colab_type": "code",
        "colab": {},
        "outputId": "3dcc0d8c-b2cf-49d2-db26-2fbe972f4cc6"
      },
      "source": [
        "# Return a version of the string with the first 2 occurences a substring replaced with something else\n",
        "a_string.replace('i', '!', 2)"
      ],
      "execution_count": 0,
      "outputs": [
        {
          "output_type": "execute_result",
          "data": {
            "text/plain": [
              "'tH!s !s a sTriNg'"
            ]
          },
          "metadata": {
            "tags": []
          },
          "execution_count": 70
        }
      ]
    },
    {
      "cell_type": "markdown",
      "metadata": {
        "collapsed": true,
        "id": "CbvTqtIPfltz",
        "colab_type": "text"
      },
      "source": [
        "## Some methods on list objects\n",
        "\n",
        "- **`.append(item)`** to add a single item to the list\n",
        "- **`.extend([item1, item2, ...])`** to add multiple items to the list\n",
        "- **`.remove(item)`** to remove a single item from the list\n",
        "- **`.pop()`** to remove and return the item at the end of the list\n",
        "- **`.pop(index)`** to remove and return an item at an index\n",
        "\n",
        "Lists are Mutable."
      ]
    },
    {
      "cell_type": "code",
      "metadata": {
        "id": "IzeGAeodflt0",
        "colab_type": "code",
        "colab": {}
      },
      "source": [
        "set2 = { 3, 5, 4, 3, 'ciao'}\n",
        "list3 = [ 'gino', 'pino', 'tino']"
      ],
      "execution_count": 0,
      "outputs": []
    },
    {
      "cell_type": "code",
      "metadata": {
        "id": "ianumkdgflt2",
        "colab_type": "code",
        "colab": {},
        "outputId": "4951dc36-e967-40ca-a851-dfa99402dbec"
      },
      "source": [
        "list3.append('thimoty')\n",
        "list3.remove('pino')\n",
        "list3"
      ],
      "execution_count": 0,
      "outputs": [
        {
          "output_type": "execute_result",
          "data": {
            "text/plain": [
              "['gino', 'tino', 'thimoty']"
            ]
          },
          "metadata": {
            "tags": []
          },
          "execution_count": 51
        }
      ]
    },
    {
      "cell_type": "markdown",
      "metadata": {
        "id": "qZgQMXaDflt7",
        "colab_type": "text"
      },
      "source": [
        "## Some methods on set objects\n",
        "\n",
        "- **`.add(item)`** to add a single item to the set\n",
        "- **`.update([item1, item2, ...])`** to add multiple items to the set\n",
        "- **`.update(set2, set3, ...)`** to add items from all provided sets to the set\n",
        "- **`.remove(item)`** to remove a single item from the set\n",
        "- **`.pop()`** to remove and return a random item from the set\n",
        "- **`.difference(set2)`** to return items in the set that are not in another set\n",
        "- **`.intersection(set2)`** to return items in both sets\n",
        "- **`.union(set2)`** to return items that are in either set\n",
        "- **`.symmetric_difference(set2)`** to return items that are only in one set (not both)\n",
        "- **`.issuperset(set2)`** does the set contain everything in the other set?\n",
        "- **`.issubset(set2)`** is the set contained in the other set?\n",
        "\n",
        "Sets are mutable as well."
      ]
    },
    {
      "cell_type": "code",
      "metadata": {
        "id": "UNlgQoTGflt8",
        "colab_type": "code",
        "colab": {},
        "outputId": "2152a08e-f140-40b0-8d17-fd352a70a63e"
      },
      "source": [
        "set2.add('hello')\n",
        "print(set2)"
      ],
      "execution_count": 0,
      "outputs": [
        {
          "output_type": "stream",
          "text": [
            "{'ciao', 3, 4, 5, 'hello'}\n"
          ],
          "name": "stdout"
        }
      ]
    },
    {
      "cell_type": "code",
      "metadata": {
        "collapsed": true,
        "id": "UaP-lXvDfluD",
        "colab_type": "code",
        "colab": {}
      },
      "source": [
        ""
      ],
      "execution_count": 0,
      "outputs": []
    },
    {
      "cell_type": "markdown",
      "metadata": {
        "id": "vMsye9QNfluG",
        "colab_type": "text"
      },
      "source": [
        "## Some methods on dict objects\n",
        "\n",
        "- **`.update([(key1, val1), (key2, val2), ...])`** to add multiple key-value pairs to the dict\n",
        "- **`.update(dict2)`** to add all keys and values from another dict to the dict\n",
        "- **`.pop(key)`** to remove key and return its value from the dict (error if key not found)\n",
        "- **`.pop(key, default_val)`** to remove key and return its value from the dict (or return default_val if key not found)\n",
        "- **`.get(key)`** to return the value at a specified key in the dict (or None if key not found)\n",
        "- **`.get(key, default_val)`** to return the value at a specified key in the dict (or default_val if key not found)\n",
        "- **`.keys()`** to return a list of keys in the dict\n",
        "- **`.values()`** to return a list of values in the dict\n",
        "- **`.items()`** to return a list of key-value pairs (tuples) in the dict"
      ]
    },
    {
      "cell_type": "code",
      "metadata": {
        "id": "fGbHpIZTfluH",
        "colab_type": "code",
        "colab": {}
      },
      "source": [
        "l=dict1.keys()"
      ],
      "execution_count": 0,
      "outputs": []
    },
    {
      "cell_type": "code",
      "metadata": {
        "id": "WaGqUQ0wflua",
        "colab_type": "code",
        "colab": {},
        "outputId": "1cfbe7b2-5d26-484c-df49-d1f89d1db7da"
      },
      "source": [
        "l = list(1)\n",
        "type(l)\n",
        "dict1[l[0]]"
      ],
      "execution_count": 0,
      "outputs": [
        {
          "output_type": "error",
          "ename": "TypeError",
          "evalue": "'int' object is not iterable",
          "traceback": [
            "\u001b[1;31m---------------------------------------------------------------------------\u001b[0m",
            "\u001b[1;31mTypeError\u001b[0m                                 Traceback (most recent call last)",
            "\u001b[1;32m<ipython-input-56-90231021e8fa>\u001b[0m in \u001b[0;36m<module>\u001b[1;34m\u001b[0m\n\u001b[1;32m----> 1\u001b[1;33m \u001b[0ml\u001b[0m \u001b[1;33m=\u001b[0m \u001b[0mlist\u001b[0m\u001b[1;33m(\u001b[0m\u001b[1;36m1\u001b[0m\u001b[1;33m)\u001b[0m\u001b[1;33m\u001b[0m\u001b[1;33m\u001b[0m\u001b[0m\n\u001b[0m\u001b[0;32m      2\u001b[0m \u001b[0mtype\u001b[0m\u001b[1;33m(\u001b[0m\u001b[0ml\u001b[0m\u001b[1;33m)\u001b[0m\u001b[1;33m\u001b[0m\u001b[1;33m\u001b[0m\u001b[0m\n\u001b[0;32m      3\u001b[0m \u001b[0mdict1\u001b[0m\u001b[1;33m[\u001b[0m\u001b[0ml\u001b[0m\u001b[1;33m[\u001b[0m\u001b[1;36m0\u001b[0m\u001b[1;33m]\u001b[0m\u001b[1;33m]\u001b[0m\u001b[1;33m\u001b[0m\u001b[1;33m\u001b[0m\u001b[0m\n",
            "\u001b[1;31mTypeError\u001b[0m: 'int' object is not iterable"
          ]
        }
      ]
    },
    {
      "cell_type": "markdown",
      "metadata": {
        "id": "-Soi5og2flud",
        "colab_type": "text"
      },
      "source": [
        "## Positional arguments and keyword arguments to callables\n",
        "\n",
        "You can call a function/method in a number of different ways:\n",
        "\n",
        "- `func()`: Call `func` with no arguments\n",
        "- `func(arg)`: Call `func` with one positional argument\n",
        "- `func(arg1, arg2)`: Call `func` with two positional arguments\n",
        "- `func(arg1, arg2, ..., argn)`: Call `func` with many positional arguments\n",
        "- `func(kwarg=value)`: Call `func` with one keyword argument \n",
        "- `func(kwarg1=value1, kwarg2=value2)`: Call `func` with two keyword arguments\n",
        "- `func(kwarg1=value1, kwarg2=value2, ..., kwargn=valuen)`: Call `func` with many keyword arguments\n",
        "- `func(arg1, arg2, kwarg1=value1, kwarg2=value2)`: Call `func` with positonal arguments and keyword arguments\n",
        "- `obj.method()`: Same for `func`.. and every other `func` example\n",
        "\n",
        "When using **positional arguments**, you must provide them in the order that the function defined them (the function's **signature**).\n",
        "\n",
        "When using **keyword arguments**, you can provide the arguments you want, in any order you want, as long as you specify each argument's name.\n",
        "\n",
        "When using positional and keyword arguments, positional arguments must come first."
      ]
    },
    {
      "cell_type": "code",
      "metadata": {
        "id": "IA4gpayFfluf",
        "colab_type": "code",
        "colab": {},
        "outputId": "775fb603-e78e-4dad-df8f-b2b41dd2a07c"
      },
      "source": [
        "def fib(n):    # write Fibonacci series up to n\n",
        "    \"\"\"Print a Fibonacci series up to n.\"\"\"\n",
        "    a, b = 0, 1\n",
        "    while a < n:\n",
        "        print(a, end=' ')\n",
        "        a, b = b, a+b\n",
        "    print()\n",
        "\n",
        "# Now call the function we just defined:\n",
        "fib(2000)\n",
        "\n"
      ],
      "execution_count": 0,
      "outputs": [
        {
          "output_type": "stream",
          "text": [
            "0 1 1 2 3 5 8 13 21 34 55 89 144 233 377 610 987 1597 \n"
          ],
          "name": "stdout"
        }
      ]
    },
    {
      "cell_type": "markdown",
      "metadata": {
        "collapsed": true,
        "id": "0Fc33Ecxfluj",
        "colab_type": "text"
      },
      "source": [
        "The actual parameters (arguments) to a function call are introduced in the local symbol table of the called function when it is called; thus, arguments are passed using call by value (where the value is always an object reference, not the value of the object). 1 When a function calls another function, a new local symbol table is created for that call.\n",
        "\n",
        "A function definition introduces the function name in the current symbol table. The value of the function name has a type that is recognized by the interpreter as a user-defined function. This value can be assigned to another name which can then also be used as a function."
      ]
    },
    {
      "cell_type": "code",
      "metadata": {
        "id": "k9_wsrqrfluj",
        "colab_type": "code",
        "colab": {},
        "outputId": "63973931-5482-41b7-ee4f-41f4260ca2a2"
      },
      "source": [
        ""
      ],
      "execution_count": 0,
      "outputs": [
        {
          "output_type": "execute_result",
          "data": {
            "text/plain": [
              "True"
            ]
          },
          "metadata": {
            "tags": []
          },
          "execution_count": 62
        }
      ]
    },
    {
      "cell_type": "code",
      "metadata": {
        "id": "dVtmdG5vfluo",
        "colab_type": "code",
        "colab": {},
        "outputId": "cdac08bc-f481-4c2d-ea0c-95bb8d5ca1ee"
      },
      "source": [
        "fib\n",
        "\n",
        "f = fib\n",
        "f(100)"
      ],
      "execution_count": 0,
      "outputs": [
        {
          "output_type": "stream",
          "text": [
            "0 1 1 2 3 5 8 13 21 34 55 89 \n"
          ],
          "name": "stdout"
        }
      ]
    },
    {
      "cell_type": "code",
      "metadata": {
        "id": "0zB6imFZflur",
        "colab_type": "code",
        "colab": {},
        "outputId": "a51dd052-cee3-4222-e2ca-7b0f46a0365a"
      },
      "source": [
        "# Returning a result\n",
        "def fib2(n):  # return Fibonacci series up to n\n",
        "    \"\"\"Return a list containing the Fibonacci series up to n.\"\"\"\n",
        "    result = []\n",
        "    a, b = 0, 1\n",
        "    while a < n:\n",
        "        result.append(a)    # see below\n",
        "        a, b = b, a+b\n",
        "    return result\n",
        "\n",
        "f100 = fib2(100)    # call it\n",
        "f100                # write the result"
      ],
      "execution_count": 0,
      "outputs": [
        {
          "output_type": "execute_result",
          "data": {
            "text/plain": [
              "[0, 1, 1, 2, 3, 5, 8, 13, 21, 34, 55, 89]"
            ]
          },
          "metadata": {
            "tags": []
          },
          "execution_count": 63
        }
      ]
    },
    {
      "cell_type": "code",
      "metadata": {
        "id": "N9XXONrKflu3",
        "colab_type": "code",
        "colab": {},
        "outputId": "313f8ba9-3369-4ff6-a1ad-1315918607e3"
      },
      "source": [
        "# Default argument values\n",
        "def ask_ok(prompt, retries=4, reminder='Please try again!'):\n",
        "    while True:\n",
        "        ok = input(prompt)\n",
        "        if ok in ('y', 'ye', 'yes'):\n",
        "            return True\n",
        "        if ok in ('n', 'no', 'nop', 'nope'):\n",
        "            return False\n",
        "        retries = retries - 1\n",
        "        if retries < 0:\n",
        "            raise ValueError('invalid user response')\n",
        "        print(reminder)\n",
        "\n",
        "# Call the function\n",
        "ask_ok(\"are you ok?\")"
      ],
      "execution_count": 0,
      "outputs": [
        {
          "output_type": "stream",
          "text": [
            "are you ok?no\n"
          ],
          "name": "stdout"
        },
        {
          "output_type": "execute_result",
          "data": {
            "text/plain": [
              "False"
            ]
          },
          "metadata": {
            "tags": []
          },
          "execution_count": 43
        }
      ]
    },
    {
      "cell_type": "code",
      "metadata": {
        "id": "iomIoSZiflu8",
        "colab_type": "code",
        "colab": {}
      },
      "source": [
        "def parrot(voltage, state='a stiff', action='voom', type='Norwegian Blue'):\n",
        "    print(\"-- This parrot wouldn't\", action, end=' ')\n",
        "    print(\"if you put\", voltage, \"volts through it.\")\n",
        "    print(\"-- Lovely plumage, the\", type)\n",
        "    print(\"-- It's\", state, \"!\")"
      ],
      "execution_count": 0,
      "outputs": []
    },
    {
      "cell_type": "code",
      "metadata": {
        "id": "gaiy0sCgflvA",
        "colab_type": "code",
        "colab": {},
        "outputId": "b71b6383-7315-4b6e-911e-2250520a6e4b"
      },
      "source": [
        "parrot(1000)                                          # 1 positional argument\n",
        "parrot(voltage=1000)                                  # 1 keyword argument\n",
        "parrot(voltage=1000000, action='VOOOOOM')             # 2 keyword arguments\n",
        "parrot(action='VOOOOOM', voltage=1000000)             # 2 keyword arguments\n",
        "parrot('a million', 'bereft of life', 'jump')         # 3 positional arguments\n",
        "parrot('a thousand', state='pushing up the daisies')  # 1 positional, 1 keyword"
      ],
      "execution_count": 0,
      "outputs": [
        {
          "output_type": "stream",
          "text": [
            "-- This parrot wouldn't voom if you put 1000 volts through it.\n",
            "-- Lovely plumage, the Norwegian Blue\n",
            "-- It's a stiff !\n",
            "-- This parrot wouldn't voom if you put 1000 volts through it.\n",
            "-- Lovely plumage, the Norwegian Blue\n",
            "-- It's a stiff !\n",
            "-- This parrot wouldn't VOOOOOM if you put 1000000 volts through it.\n",
            "-- Lovely plumage, the Norwegian Blue\n",
            "-- It's a stiff !\n",
            "-- This parrot wouldn't VOOOOOM if you put 1000000 volts through it.\n",
            "-- Lovely plumage, the Norwegian Blue\n",
            "-- It's a stiff !\n",
            "-- This parrot wouldn't jump if you put a million volts through it.\n",
            "-- Lovely plumage, the Norwegian Blue\n",
            "-- It's bereft of life !\n",
            "-- This parrot wouldn't voom if you put a thousand volts through it.\n",
            "-- Lovely plumage, the Norwegian Blue\n",
            "-- It's pushing up the daisies !\n"
          ],
          "name": "stdout"
        }
      ]
    },
    {
      "cell_type": "markdown",
      "metadata": {
        "id": "lJYS28YsflvN",
        "colab_type": "text"
      },
      "source": [
        "## Lambda expressions##\n",
        "\n",
        "Small anonymous functions can be created with the lambda keyword. This function returns the sum of its two arguments: lambda a, b: a+b. Lambda functions can be used wherever function objects are required. They are syntactically restricted to a single expression"
      ]
    },
    {
      "cell_type": "code",
      "metadata": {
        "id": "t_Pirz3Uflvb",
        "colab_type": "code",
        "colab": {},
        "outputId": "e37c1aeb-074a-4348-eb78-ee55743f163d"
      },
      "source": [
        "#def somma(x,n):\n",
        " #   return x+n\n",
        "#somma(2,2)\n",
        "\n",
        "somma=lambda x,n: x+n\n",
        "somma(2,2)"
      ],
      "execution_count": 0,
      "outputs": [
        {
          "output_type": "execute_result",
          "data": {
            "text/plain": [
              "4"
            ]
          },
          "metadata": {
            "tags": []
          },
          "execution_count": 66
        }
      ]
    },
    {
      "cell_type": "code",
      "metadata": {
        "id": "i8IErgSvflvq",
        "colab_type": "code",
        "colab": {},
        "outputId": "2d8cdbc9-e17f-4d06-dac0-ab8aee08a6fb"
      },
      "source": [
        "def make_incrementor(n):\n",
        "    return lambda x: x + n\n",
        "\n",
        "f = make_incrementor(42)\n",
        "print(f(0))\n",
        "\n",
        "print(f(1))"
      ],
      "execution_count": 0,
      "outputs": [
        {
          "output_type": "stream",
          "text": [
            "42\n",
            "43\n"
          ],
          "name": "stdout"
        }
      ]
    },
    {
      "cell_type": "code",
      "metadata": {
        "id": "dk4Q9Tt2flvu",
        "colab_type": "code",
        "colab": {},
        "outputId": "7811caa0-b0c9-4f6c-d499-d4da31a7c839"
      },
      "source": [
        "##implementare un generatore di funzioni di saluto che consente di generare funzioni che salutano in modo simpatico, in modo formale e in inglese. Ciascuna di queste funzioni riceve come parametro il nome da salutare\n",
        "\n",
        "def greeter(salute):\n",
        "    return lambda name: salute+ \", \"+name\n",
        "\n",
        "formalGreeter = greeter (\"Buongiorno\")\n",
        "happyGreeter = greeter (\"Hei\")\n",
        "englishGreeter = greeter (\"Hello\")\n",
        "\n",
        "englishGreeter(\"Alessandro Manzoni\")"
      ],
      "execution_count": 0,
      "outputs": [
        {
          "output_type": "execute_result",
          "data": {
            "text/plain": [
              "'Hello, Alessandro Manzoni'"
            ]
          },
          "metadata": {
            "tags": []
          },
          "execution_count": 81
        }
      ]
    },
    {
      "cell_type": "code",
      "metadata": {
        "id": "1QJ3krDDflvx",
        "colab_type": "code",
        "colab": {},
        "outputId": "be29d110-4657-4758-9944-6c326ad452ee"
      },
      "source": [
        "pairs = [(1, 'one'), (2, 'two'), (3, 'three'), (4, 'four')]\n",
        "pairs.sort(key=lambda pair: pair[1][1])\n",
        "pairs"
      ],
      "execution_count": 0,
      "outputs": [
        {
          "output_type": "execute_result",
          "data": {
            "text/plain": [
              "[(3, 'three'), (1, 'one'), (4, 'four'), (2, 'two')]"
            ]
          },
          "metadata": {
            "tags": []
          },
          "execution_count": 80
        }
      ]
    },
    {
      "cell_type": "markdown",
      "metadata": {
        "id": "3RJ-8Nhcflv0",
        "colab_type": "text"
      },
      "source": [
        "## Formatting strings and using placeholders"
      ]
    },
    {
      "cell_type": "code",
      "metadata": {
        "id": "56feQTgTflv0",
        "colab_type": "code",
        "colab": {},
        "outputId": "2370aa96-fb01-4811-f907-aba39678c2fd"
      },
      "source": [
        "print('{0} and {1}'.format('spam', 'eggs'))\n",
        "\n",
        "print('{1} and {0}'.format('spam', 'eggs'))"
      ],
      "execution_count": 0,
      "outputs": [
        {
          "output_type": "stream",
          "text": [
            "spam and eggs\n",
            "eggs and spam\n"
          ],
          "name": "stdout"
        }
      ]
    },
    {
      "cell_type": "code",
      "metadata": {
        "id": "bGLBTiNsflv8",
        "colab_type": "code",
        "colab": {},
        "outputId": "b7557b95-a59b-49db-8e43-fe96899dca3a"
      },
      "source": [
        "print('This {food} is {adjective}.'.format(\n",
        "      food='spam', adjective='absolutely horrible'))"
      ],
      "execution_count": 0,
      "outputs": [
        {
          "output_type": "stream",
          "text": [
            "This spam is absolutely horrible.\n"
          ],
          "name": "stdout"
        }
      ]
    },
    {
      "cell_type": "code",
      "metadata": {
        "id": "c5YTlMvNflv-",
        "colab_type": "code",
        "colab": {},
        "outputId": "8947928f-a6d9-4164-f1e3-acdd448bb41e"
      },
      "source": [
        "# See Python's Format String Syntax\n",
        "for x in range(1, 11):\n",
        "  print('{0:2d} {1:3d} {2:4d}'.format(x, x*x, x*x*x))"
      ],
      "execution_count": 0,
      "outputs": [
        {
          "output_type": "stream",
          "text": [
            " 1   1    1\n",
            " 2   4    8\n",
            " 3   9   27\n",
            " 4  16   64\n",
            " 5  25  125\n",
            " 6  36  216\n",
            " 7  49  343\n",
            " 8  64  512\n",
            " 9  81  729\n",
            "10 100 1000\n"
          ],
          "name": "stdout"
        }
      ]
    },
    {
      "cell_type": "markdown",
      "metadata": {
        "id": "yAZ_ahOkflwA",
        "colab_type": "text"
      },
      "source": [
        "## Python \"for loops\"\n",
        "\n",
        "It is easy to **iterate** over a collection of items using a **for loop**. The strings, lists, tuples, sets, and dictionaries we defined are all **iterable** containers.\n",
        "\n",
        "The for loop will go through the specified container, one item at a time, and provide a temporary variable for the current item. You can use this temporary variable like a normal variable."
      ]
    },
    {
      "cell_type": "code",
      "metadata": {
        "id": "ly3PtR1-flwB",
        "colab_type": "code",
        "colab": {},
        "outputId": "e8395bd8-9843-4b6c-d5c5-8d6e31bc0fbc"
      },
      "source": [
        "# Measure some strings:\n",
        "words = ['cat', 'window', 'defenestrate']\n",
        "for w in words:\n",
        "  print(w, len(w))"
      ],
      "execution_count": 0,
      "outputs": [
        {
          "output_type": "stream",
          "text": [
            "cat 3\n",
            "window 6\n",
            "defenestrate 12\n"
          ],
          "name": "stdout"
        }
      ]
    },
    {
      "cell_type": "code",
      "metadata": {
        "id": "CMNGTcLmflwD",
        "colab_type": "code",
        "colab": {},
        "outputId": "ba9cc649-583f-4448-c63b-62c0dc5170dd"
      },
      "source": [
        "# Iterate while changing the inspected array\n",
        "for w in words[:]:  # Loop over a slice copy of the entire list.\n",
        "    if len(w) > 6:\n",
        "        words.insert(0, w)\n",
        "words"
      ],
      "execution_count": 0,
      "outputs": [
        {
          "output_type": "execute_result",
          "data": {
            "text/plain": [
              "['defenestrate', 'cat', 'window', 'defenestrate']"
            ]
          },
          "metadata": {
            "tags": []
          },
          "execution_count": 36
        }
      ]
    },
    {
      "cell_type": "markdown",
      "metadata": {
        "id": "FMygAMoNflwG",
        "colab_type": "text"
      },
      "source": [
        "To iterate over the indices of a sequence, you can combine range() and len() as follows. More elaborate techniques (such as enumerate() are described in Looping Techniques)"
      ]
    },
    {
      "cell_type": "code",
      "metadata": {
        "id": "3lFEpgiEflwH",
        "colab_type": "code",
        "colab": {},
        "outputId": "b2c9f669-c956-4b24-b04b-12acee6ff68e"
      },
      "source": [
        "a = ['Mary', 'had', 'a', 'little', 'lamb']\n",
        "for i in range(0,len(a),2):\n",
        " print(i, a[i])"
      ],
      "execution_count": 0,
      "outputs": [
        {
          "output_type": "stream",
          "text": [
            "0 Mary\n",
            "2 a\n",
            "4 lamb\n"
          ],
          "name": "stdout"
        }
      ]
    },
    {
      "cell_type": "code",
      "metadata": {
        "id": "UEtZSBrkflwN",
        "colab_type": "code",
        "colab": {},
        "outputId": "cf8d1fcc-b80b-411c-9250-c506d68310de"
      },
      "source": [
        "for i in range(0,10):\n",
        "    print (i)"
      ],
      "execution_count": 0,
      "outputs": [
        {
          "output_type": "stream",
          "text": [
            "0\n",
            "1\n",
            "2\n",
            "3\n",
            "4\n",
            "5\n",
            "6\n",
            "7\n",
            "8\n",
            "9\n"
          ],
          "name": "stdout"
        }
      ]
    },
    {
      "cell_type": "code",
      "metadata": {
        "id": "hrNqfAZIflwP",
        "colab_type": "code",
        "colab": {},
        "outputId": "0f00edae-7d8e-40bf-dae4-f42897853cb6"
      },
      "source": [
        "# Using enumerate\n",
        "for i, v in enumerate(['tic', 'tac', 'toe']):\n",
        "    print(i, v)\n"
      ],
      "execution_count": 0,
      "outputs": [
        {
          "output_type": "stream",
          "text": [
            "0 tic\n",
            "1 tac\n",
            "2 toe\n"
          ],
          "name": "stdout"
        }
      ]
    },
    {
      "cell_type": "code",
      "metadata": {
        "id": "kaUpy1oeflwS",
        "colab_type": "code",
        "colab": {},
        "outputId": "218b6297-1009-4430-96fe-c5c48491f897"
      },
      "source": [
        "# Looping two or more sequences in parallel with zip()\n",
        "questions = ['name', 'quest', 'favorite color']\n",
        "answers = ['lancelot', 'the holy grail', 'blue']\n",
        "for q, a in zip(questions, answers):\n",
        "    print('What is your {0}?  It is {1}.'.format(q, a))"
      ],
      "execution_count": 0,
      "outputs": [
        {
          "output_type": "stream",
          "text": [
            "What is your name?  It is lancelot.\n",
            "What is your quest?  It is the holy grail.\n",
            "What is your favorite color?  It is blue.\n"
          ],
          "name": "stdout"
        }
      ]
    },
    {
      "cell_type": "markdown",
      "metadata": {
        "id": "OX1xxuTuflwV",
        "colab_type": "text"
      },
      "source": [
        "## Python \"if statements\" and \"while loops\"\n",
        "\n",
        "Conditional expressions can be used with these two **conditional statements**.\n",
        "\n",
        "The **if statement** allows you to test a condition and perform some actions if the condition evaluates to `True`. You can also provide `elif` and/or `else` clauses to an if statement to take alternative actions if the condition evaluates to `False`.\n",
        "\n",
        "The **while loop** will keep looping until its conditional expression evaluates to `False`.\n",
        "\n",
        "> Note: It is possible to \"loop forever\" when using a while loop with a conditional expression that never evaluates to `False`.\n",
        ">\n",
        "> Note: Since the **for loop** will iterate over a container of items until there are no more, there is no need to specify a \"stop looping\" condition."
      ]
    },
    {
      "cell_type": "code",
      "metadata": {
        "id": "xTYCrziRflwW",
        "colab_type": "code",
        "colab": {},
        "outputId": "36a342fd-b725-4337-8961-4c1d8b8d02fd"
      },
      "source": [
        "## Fibonacci \n",
        "a, b = 0, 1\n",
        "while a < 10:\n",
        "  print(a)\n",
        "  a, b = b, a+b"
      ],
      "execution_count": 0,
      "outputs": [
        {
          "output_type": "stream",
          "text": [
            "0\n",
            "1\n",
            "1\n",
            "2\n",
            "3\n",
            "5\n",
            "8\n"
          ],
          "name": "stdout"
        }
      ]
    },
    {
      "cell_type": "code",
      "metadata": {
        "id": "cwEXWXo6flwY",
        "colab_type": "code",
        "colab": {},
        "outputId": "5a6496ac-fb6b-43ca-9a79-ac54a3b01608"
      },
      "source": [
        "# if, elif, else block\n",
        "x = 42\n",
        "if x < 0:\n",
        "  x = 0\n",
        "  print('Negative changed to zero')\n",
        "elif x == 0:\n",
        "  print('Zero')\n",
        "elif x == 1:\n",
        "  print('Single')\n",
        "else:\n",
        "  print('More')"
      ],
      "execution_count": 0,
      "outputs": [
        {
          "output_type": "stream",
          "text": [
            "More\n"
          ],
          "name": "stdout"
        }
      ]
    },
    {
      "cell_type": "markdown",
      "metadata": {
        "id": "42KqvWaYflwf",
        "colab_type": "text"
      },
      "source": [
        "## List, set, and dict comprehensions"
      ]
    },
    {
      "cell_type": "code",
      "metadata": {
        "id": "NXCXc2rNflwg",
        "colab_type": "code",
        "colab": {},
        "outputId": "0d5cf082-f494-4dfb-d378-ed4846f7047e"
      },
      "source": [
        "squares = []\n",
        "for x in range(10):\n",
        "    squares.append(x**2)\n",
        "\n",
        "squares"
      ],
      "execution_count": 0,
      "outputs": [
        {
          "output_type": "execute_result",
          "data": {
            "text/plain": [
              "[0, 1, 4, 9, 16, 25, 36, 49, 64, 81]"
            ]
          },
          "metadata": {
            "tags": []
          },
          "execution_count": 52
        }
      ]
    },
    {
      "cell_type": "code",
      "metadata": {
        "id": "QXFXxmmAflwl",
        "colab_type": "code",
        "colab": {},
        "outputId": "fec1b06f-912c-483e-8681-ad4585213161"
      },
      "source": [
        "# list comprehension\n",
        "squares = [x**2 for x in range(10)]\n",
        "squares"
      ],
      "execution_count": 0,
      "outputs": [
        {
          "output_type": "execute_result",
          "data": {
            "text/plain": [
              "[0, 1, 4, 9, 16, 25, 36, 49, 64, 81]"
            ]
          },
          "metadata": {
            "tags": []
          },
          "execution_count": 10
        }
      ]
    },
    {
      "cell_type": "code",
      "metadata": {
        "id": "9elRrJqNflwq",
        "colab_type": "code",
        "colab": {}
      },
      "source": [
        "# Lambda equivalent\n",
        "squares = list(map(lambda x: x**2, range(10)))"
      ],
      "execution_count": 0,
      "outputs": []
    },
    {
      "cell_type": "code",
      "metadata": {
        "id": "6S7b_xNHflws",
        "colab_type": "code",
        "colab": {},
        "outputId": "8fcb2d73-1204-41f6-bd20-f7053c5bf110"
      },
      "source": [
        "# Obtaining a 2D cartesian space for two vectors\n",
        "[(x, y) for x in [1,2,3] for y in [3,1,4] if x != y]"
      ],
      "execution_count": 0,
      "outputs": [
        {
          "output_type": "execute_result",
          "data": {
            "text/plain": [
              "[(1, 3), (1, 4), (2, 3), (2, 1), (2, 4), (3, 1), (3, 4)]"
            ]
          },
          "metadata": {
            "tags": []
          },
          "execution_count": 53
        }
      ]
    },
    {
      "cell_type": "code",
      "metadata": {
        "id": "DQwF1kRuflwu",
        "colab_type": "code",
        "colab": {},
        "outputId": "7e0fbed2-7887-467e-80ba-0b4fd4b19e2f"
      },
      "source": [
        "# dict comprehensions\n",
        "{x: x**2 for x in (2, 4, 6)}"
      ],
      "execution_count": 0,
      "outputs": [
        {
          "output_type": "execute_result",
          "data": {
            "text/plain": [
              "{2: 4, 4: 16, 6: 36}"
            ]
          },
          "metadata": {
            "tags": []
          },
          "execution_count": 84
        }
      ]
    },
    {
      "cell_type": "code",
      "metadata": {
        "id": "sVQzWH0Qflwx",
        "colab_type": "code",
        "colab": {},
        "outputId": "372ff7ba-f977-4daf-d77c-7a591c138cd5"
      },
      "source": [
        "# set comprehensions\n",
        "a = {x for x in 'abracadabra' if x not in 'abc'}\n",
        "a"
      ],
      "execution_count": 0,
      "outputs": [
        {
          "output_type": "execute_result",
          "data": {
            "text/plain": [
              "{'d', 'r'}"
            ]
          },
          "metadata": {
            "tags": []
          },
          "execution_count": 58
        }
      ]
    },
    {
      "cell_type": "markdown",
      "metadata": {
        "id": "3fIMqyo-flw1",
        "colab_type": "text"
      },
      "source": [
        "## Creating objects from arguments or other objects\n",
        "\n",
        "The basic types and containers we have used so far all provide **type constructors**:\n",
        "\n",
        "- `int()`\n",
        "- `float()`\n",
        "- `str()`\n",
        "- `list()`\n",
        "- `tuple()`\n",
        "- `set()`\n",
        "- `dict()`\n",
        "\n",
        "Up to this point, we have been defining objects of these built-in types using some syntactic shortcuts, since they are so common.\n",
        "\n",
        "Sometimes, you will have an object of one type that you need to convert to another type. Use the **type constructor** for the type of object you want to have, and pass in the object you currently have."
      ]
    },
    {
      "cell_type": "code",
      "metadata": {
        "id": "i0Dw2QItflw1",
        "colab_type": "code",
        "colab": {},
        "outputId": "d2055c1e-345b-48f5-bc9d-a5cf27b22e67"
      },
      "source": [
        "j = int(23)\n",
        "j\n",
        "myset = set(['hello', 1, 3, 3, 6])\n",
        "myset"
      ],
      "execution_count": 0,
      "outputs": [
        {
          "output_type": "execute_result",
          "data": {
            "text/plain": [
              "{1, 3, 6, 'hello'}"
            ]
          },
          "metadata": {
            "tags": []
          },
          "execution_count": 13
        }
      ]
    },
    {
      "cell_type": "code",
      "metadata": {
        "collapsed": true,
        "id": "-HcS08eSflw4",
        "colab_type": "code",
        "colab": {}
      },
      "source": [
        ""
      ],
      "execution_count": 0,
      "outputs": []
    },
    {
      "cell_type": "markdown",
      "metadata": {
        "id": "EQ5nmyl2flw6",
        "colab_type": "text"
      },
      "source": [
        "## Importing modules\n",
        "\n",
        "A module is a file containing Python definitions and statements. The file name is the module name with the suffix .py appended. Within a module, the module’s name (as a string) is available as the value of the global variable __name__. "
      ]
    },
    {
      "cell_type": "code",
      "metadata": {
        "id": "DzlaGpBeflw7",
        "colab_type": "code",
        "colab": {},
        "outputId": "678fb0b2-0f1b-4340-ed29-2521fa976d0b"
      },
      "source": [
        "# Create a file fipo.py with fib and fib2 functions\n",
        "# import fibo\n",
        "#fibo.fib(1000)\n",
        "#fibo.fib2(100)\n",
        "#fibo.__name__\n",
        "\n",
        "# See https://docs.python.org/3/library/ Python Standard Library\n",
        "import statistics as stat\n",
        "print(stat.mean([1, 2, 3, 4, 4]))\n",
        "\n",
        "import os\n",
        "entries = os.listdir('./')\n",
        "print(entries)"
      ],
      "execution_count": 0,
      "outputs": [
        {
          "output_type": "stream",
          "text": [
            "2.8\n",
            "['.git', '.gitignore', '.ipynb_checkpoints', 'boxplot_color.ipynb', 'Chapter 10 - Advertising Example.ipynb', 'Chapter 2 - Data Processing.ipynb', 'Chapter 3 - Modeling and prediction.ipynb', 'Chapter 4 - Evaluation and Optimization.ipynb', 'Chapter 6 - NYC Taxi Full Example.ipynb', 'Chapter 7 - Advanced Feature Engineering.ipynb', 'Chapter 8 - Movie Review Full Example.ipynb', 'Chapter 9 - Scaling ML Workflows.ipynb', 'classification-tree.R', 'CRisk_final.pdf', 'Daniel-slides.PDF', 'data', 'decision-tree.py', 'Examples-Matplotlib-Gallery.ipynb', 'figures', 'gym-nvchain.py', 'Keep it simple! How to understand Gradient Descent algorithm.pdf', 'learning-python3.ipynb', 'LICENSE', 'mosaicplot.py', 'old', 'Practical Machine Learning-PythonEdition_v3.pdf', 'README.md', 'Reinforcement learning tutorial using Python and Keras - Adventures in Machine Learning.pdf', 'r_learning_python.py', 'svm_gui.ipynb', 'svm_gui.py', 'svm_gui2.py', 'titanic-logistic-regression-with-python.ipynb', 'titanic_tree.dot']\n"
          ],
          "name": "stdout"
        }
      ]
    },
    {
      "cell_type": "code",
      "metadata": {
        "collapsed": true,
        "id": "ENW6MkCyflxD",
        "colab_type": "code",
        "colab": {}
      },
      "source": [
        "import numpy as np\n",
        "import pandas as pd"
      ],
      "execution_count": 0,
      "outputs": []
    },
    {
      "cell_type": "markdown",
      "metadata": {
        "id": "zCbLPudIflxR",
        "colab_type": "text"
      },
      "source": [
        "## Exceptions\n",
        "\n",
        "Even if a statement or expression is syntactically correct, it may cause an error when an attempt is made to execute it. Errors detected during execution are called exceptions and are not unconditionally fatal"
      ]
    },
    {
      "cell_type": "code",
      "metadata": {
        "id": "AtXGZjcEflxS",
        "colab_type": "code",
        "colab": {},
        "outputId": "2cf35461-b908-4e84-9291-5ff8154c25c8"
      },
      "source": [
        "while True:\n",
        "    try:\n",
        "        x = int(input(\"Please enter a number: \"))\n",
        "        break\n",
        "    except ValueError:\n",
        "        print(\"Oops!  That was no valid number.  Try again...\")"
      ],
      "execution_count": 0,
      "outputs": [
        {
          "output_type": "stream",
          "text": [
            "Please enter a number: gigio\n",
            "Oops!  That was no valid number.  Try again...\n",
            "Please enter a number: 2.2\n",
            "Oops!  That was no valid number.  Try again...\n",
            "Please enter a number: 2\n"
          ],
          "name": "stdout"
        }
      ]
    },
    {
      "cell_type": "code",
      "metadata": {
        "id": "9sub2Vubflxe",
        "colab_type": "code",
        "colab": {},
        "outputId": "9c436715-87e6-4477-fc26-ea075bae2783"
      },
      "source": [
        "import sys\n",
        "\n",
        "try:\n",
        "    f = open('myfile.txt')\n",
        "    s = f.readline()\n",
        "    i = int(s.strip())\n",
        "except OSError as err:\n",
        "    print(\"OS error: {0}\".format(err))\n",
        "except ValueError:\n",
        "    print(\"Could not convert data to an integer.\")\n",
        "except:\n",
        "    print(\"Unexpected error:\", sys.exc_info()[0])\n",
        "    raise"
      ],
      "execution_count": 0,
      "outputs": [
        {
          "output_type": "stream",
          "text": [
            "OS error: [Errno 2] No such file or directory: 'myfile.txt'\n"
          ],
          "name": "stdout"
        }
      ]
    },
    {
      "cell_type": "markdown",
      "metadata": {
        "id": "qxSHFCXlflxr",
        "colab_type": "text"
      },
      "source": [
        "## Classes: Creating your own objects\n",
        "\n",
        "Classes provide a means of bundling data and functionality together. Creating a new class creates a new type of object, allowing new instances of that type to be made. Each class instance can have attributes attached to it for maintaining its state. Class instances can also have methods (defined by its class) for modifying its state."
      ]
    },
    {
      "cell_type": "markdown",
      "metadata": {
        "id": "W-gL6HQIflxs",
        "colab_type": "text"
      },
      "source": [
        "## Defining functions and methods"
      ]
    },
    {
      "cell_type": "code",
      "metadata": {
        "id": "CV3xgP-Iflxt",
        "colab_type": "code",
        "colab": {},
        "outputId": "a9e3c975-a715-4b6a-df3d-ca234d5cb33e"
      },
      "source": [
        "class MyClass:\n",
        "    \"\"\"A simple example class\"\"\"\n",
        "    i = 12345\n",
        "\n",
        "    def f(self):\n",
        "        return 'hello world'\n",
        "    \n",
        "mc = MyClass()\n",
        "mc.f()"
      ],
      "execution_count": 0,
      "outputs": [
        {
          "output_type": "execute_result",
          "data": {
            "text/plain": [
              "'hello world'"
            ]
          },
          "metadata": {
            "tags": []
          },
          "execution_count": 75
        }
      ]
    },
    {
      "cell_type": "markdown",
      "metadata": {
        "id": "XqdeBvoyflxv",
        "colab_type": "text"
      },
      "source": [
        "## Creating an initializer method for your classes"
      ]
    },
    {
      "cell_type": "code",
      "metadata": {
        "id": "7ObBO1Avflxw",
        "colab_type": "code",
        "colab": {},
        "outputId": "c2ac2f41-1916-4b52-cc33-01a25d259153"
      },
      "source": [
        "class Complex:\n",
        "    def __init__(self, realpart, imagpart):\n",
        "        self.r = realpart\n",
        "        self.i = imagpart\n",
        "\n",
        "x = Complex(3.0, -4.5)\n",
        "x.r, x.i"
      ],
      "execution_count": 0,
      "outputs": [
        {
          "output_type": "execute_result",
          "data": {
            "text/plain": [
              "(3.0, -4.5)"
            ]
          },
          "metadata": {
            "tags": []
          },
          "execution_count": 77
        }
      ]
    },
    {
      "cell_type": "code",
      "metadata": {
        "id": "DdfiU6eOflxy",
        "colab_type": "code",
        "colab": {},
        "outputId": "288ef034-a1ff-4701-98a0-f430e9cd64d8"
      },
      "source": [
        "class Dog:\n",
        "\n",
        "    kind = 'canine'         # class variable shared by all instances\n",
        "\n",
        "    def __init__(self, name):\n",
        "        self.name = name    # instance variable unique to each instance\n",
        "\n",
        "d = Dog('Fido')\n",
        "e = Dog('Buddy')\n",
        "print(d.kind)                  # shared by all dogs\n",
        "print(e.kind)                  # shared by all dogs\n",
        "print(d.name)                  # unique to d\n",
        "print(e.name)                  # unique to e"
      ],
      "execution_count": 0,
      "outputs": [
        {
          "output_type": "stream",
          "text": [
            "canine\n",
            "canine\n",
            "Fido\n",
            "Buddy\n"
          ],
          "name": "stdout"
        }
      ]
    },
    {
      "cell_type": "code",
      "metadata": {
        "id": "zdCQAz6Rflx0",
        "colab_type": "code",
        "colab": {}
      },
      "source": [
        ""
      ],
      "execution_count": 0,
      "outputs": []
    },
    {
      "cell_type": "markdown",
      "metadata": {
        "id": "rfATjhrRflx6",
        "colab_type": "text"
      },
      "source": [
        "## Inheritance"
      ]
    },
    {
      "cell_type": "code",
      "metadata": {
        "collapsed": true,
        "id": "qjZR07BDflx8",
        "colab_type": "code",
        "colab": {}
      },
      "source": [
        "# Define a new class called `Thing` that is derived from the base Python object\n",
        "class Thing(object):\n",
        "    my_property = 'I am a \"Thing\"'\n",
        "\n",
        "\n",
        "# Define a new class called `DictThing` that is derived from the `dict` type\n",
        "class DictThing(dict):\n",
        "    my_property = 'I am a \"DictThing\"'"
      ],
      "execution_count": 0,
      "outputs": []
    },
    {
      "cell_type": "code",
      "metadata": {
        "id": "OIPWfHyQflyD",
        "colab_type": "code",
        "colab": {},
        "outputId": "5cc3043f-49ce-49fc-acc8-9a08a826d1df"
      },
      "source": [
        "print(Thing)\n",
        "print(type(Thing))\n",
        "print(DictThing)\n",
        "print(type(DictThing))\n",
        "print(issubclass(DictThing, dict))\n",
        "print(issubclass(DictThing, object))"
      ],
      "execution_count": 0,
      "outputs": [
        {
          "output_type": "stream",
          "text": [
            "<class '__main__.Thing'>\n",
            "<class 'type'>\n",
            "<class '__main__.DictThing'>\n",
            "<class 'type'>\n",
            "True\n",
            "True\n"
          ],
          "name": "stdout"
        }
      ]
    },
    {
      "cell_type": "code",
      "metadata": {
        "id": "rv6d1uMIflyG",
        "colab_type": "code",
        "colab": {},
        "outputId": "a329e44d-852a-4841-c325-08319b6bb919"
      },
      "source": [
        "# Create \"instances\" of our new classes\n",
        "t = Thing()\n",
        "d = DictThing()\n",
        "print(t)\n",
        "print(type(t))\n",
        "print(d)\n",
        "print(type(d))"
      ],
      "execution_count": 0,
      "outputs": [
        {
          "output_type": "stream",
          "text": [
            "<__main__.Thing object at 0x7f2170f3d240>\n",
            "<class '__main__.Thing'>\n",
            "{}\n",
            "<class '__main__.DictThing'>\n"
          ],
          "name": "stdout"
        }
      ]
    },
    {
      "cell_type": "code",
      "metadata": {
        "id": "lfTUoq8xflyJ",
        "colab_type": "code",
        "colab": {},
        "outputId": "80b3026f-05db-445e-d581-4b323b6f231f"
      },
      "source": [
        "# Interact with a DictThing instance just as you would a normal dictionary\n",
        "d['name'] = 'Sally'\n",
        "print(d)"
      ],
      "execution_count": 0,
      "outputs": [
        {
          "output_type": "stream",
          "text": [
            "{'name': 'Sally'}\n"
          ],
          "name": "stdout"
        }
      ]
    },
    {
      "cell_type": "code",
      "metadata": {
        "id": "JzRddCsmflyM",
        "colab_type": "code",
        "colab": {},
        "outputId": "637a311c-2af0-4400-b6db-c13cf31f2a04"
      },
      "source": [
        "d.update({\n",
        "        'age': 13,\n",
        "        'fav_foods': ['pizza', 'sushi', 'pad thai', 'waffles'],\n",
        "        'fav_color': 'green',\n",
        "    })\n",
        "print(d)"
      ],
      "execution_count": 0,
      "outputs": [
        {
          "output_type": "stream",
          "text": [
            "{'fav_color': 'green', 'name': 'Sally', 'fav_foods': ['pizza', 'sushi', 'pad thai', 'waffles'], 'age': 13}\n"
          ],
          "name": "stdout"
        }
      ]
    },
    {
      "cell_type": "code",
      "metadata": {
        "id": "mqUYULoTflyT",
        "colab_type": "code",
        "colab": {},
        "outputId": "4051fcdf-8978-4b1a-e8a8-28a425bff24c"
      },
      "source": [
        "print(d.my_property)"
      ],
      "execution_count": 0,
      "outputs": [
        {
          "output_type": "stream",
          "text": [
            "I am a \"DictThing\"\n"
          ],
          "name": "stdout"
        }
      ]
    },
    {
      "cell_type": "markdown",
      "metadata": {
        "id": "7CXD28KUflyV",
        "colab_type": "text"
      },
      "source": [
        "## Context managers and the \"with statement\""
      ]
    },
    {
      "cell_type": "code",
      "metadata": {
        "collapsed": true,
        "id": "BZBuf4KSflyW",
        "colab_type": "code",
        "colab": {}
      },
      "source": [
        ""
      ],
      "execution_count": 0,
      "outputs": []
    },
    {
      "cell_type": "code",
      "metadata": {
        "collapsed": true,
        "id": "V5WG1Govflyh",
        "colab_type": "code",
        "colab": {}
      },
      "source": [
        ""
      ],
      "execution_count": 0,
      "outputs": []
    }
  ]
}